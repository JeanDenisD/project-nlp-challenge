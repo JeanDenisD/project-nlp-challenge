{
 "cells": [
  {
   "cell_type": "markdown",
   "id": "224a4842",
   "metadata": {},
   "source": [
    "# Model 2: Scikit-Learn Pipeline + Hyperparameter Tuning for model selection\n",
    "\n",
    "## 🎯 Objective:\n",
    "Extend the original pipeline approach by comparing multiple machine learning classifiers under a unified text processing and tuning framework.\n",
    "\n",
    "This Model 2 uses GridSearchCV optimize hyperparameters (e.g., C, n_estimators, ngram_range), evaluate and select the best-performing classifier among:\n",
    "- **Logistic Regression**\n",
    "- **Random Forest**\n",
    "- **Linear SVC**\n",
    "- **MultinomialNB**\n",
    "- **KNeighborsClassifier**\n",
    "- **SGDClassifier**\n",
    "\n",
    "All classifiers are tested using the same text preprocessing setup (TfidfVectorizer) and evaluated with 5-fold cross-validation to ensure fairness and robustness.\n",
    "\n",
    "## 🔧 Steps:\n",
    "1. Import Librairies and load data (Assign columns name)\n",
    "\n",
    "2. Use a Unified Pipeline with sklearn:\n",
    "- Preprocessing:\n",
    "    -  Raw title text passed directly (lowercased if needed)\n",
    "- Vectorization:\n",
    "    - TfidfVectorizer with n-gram and document frequency settings\n",
    "\n",
    "- Classifier:\n",
    "    - Model placeholder (clf) that can be:\n",
    "        - LogisticRegression\n",
    "        - RandomForestClassifier\n",
    "        - LinearSVC\n",
    "\n",
    "3. Define Multi-Model Grid Search:\n",
    "- GridSearchCV is used to:\n",
    "    - Search hyperparameters for each model\n",
    "    - Select the best model type based on cross-validation accuracy\n",
    "\n",
    "4. Evaluation:\n",
    "- Retrieve:\n",
    "    - Best model and its hyperparameters\n",
    "    - Best cross-validation score\n",
    "    - Accuracy on the held-out test set\n",
    "\n",
    "5. Evaluation:\n",
    "    - classification_report\n",
    "\n",
    "6. confusion_matrix (visualized with ConfusionMatrixDisplay)\n",
    "\n",
    "7. Save Model Eval Metrics\n",
    "\n",
    "8. Save trained model\n",
    "\n",
    "9. Prediction\n",
    "\n",
    "## ✅ Purpose:\n",
    "Build a high-performing, scalable, and interpretable classification system using the scikit-learn pipeline API.\n",
    "\n",
    "This version not only tunes model hyperparameters but also compares different classifiers in a unified setup.\n",
    "\n",
    "It ensures fair comparison through cross-validation and automated model selection using GridSearchCV."
   ]
  },
  {
   "cell_type": "markdown",
   "id": "abf31b2c",
   "metadata": {},
   "source": [
    "## 1. Import Librairies and load data"
   ]
  },
  {
   "cell_type": "code",
   "execution_count": 1,
   "id": "639417f5",
   "metadata": {},
   "outputs": [],
   "source": [
    "import pandas as pd\n",
    "import numpy as np\n",
    "import re\n",
    "from nltk.corpus import stopwords\n",
    "from nltk.stem import PorterStemmer\n",
    "from sklearn.model_selection import train_test_split\n",
    "from sklearn.pipeline import Pipeline\n",
    "from sklearn.feature_extraction.text import TfidfVectorizer\n",
    "from sklearn.linear_model import LogisticRegression\n",
    "from sklearn.ensemble import RandomForestClassifier\n",
    "from sklearn.svm import LinearSVC\n",
    "from sklearn.linear_model import SGDClassifier\n",
    "from sklearn.naive_bayes import MultinomialNB\n",
    "from sklearn.neighbors import KNeighborsClassifier\n",
    "from sklearn.model_selection import GridSearchCV\n",
    "from sklearn.metrics import classification_report, accuracy_score, precision_score, recall_score, f1_score, confusion_matrix\n",
    "from sklearn.metrics import ConfusionMatrixDisplay\n",
    "import matplotlib.pyplot as plt\n",
    "import seaborn as sns\n",
    "\n",
    "import time\n",
    "\n",
    "from model_eval import save_model_results, save_trained_model"
   ]
  },
  {
   "cell_type": "code",
   "execution_count": 2,
   "id": "cd4dd074",
   "metadata": {},
   "outputs": [
    {
     "data": {
      "text/html": [
       "<div>\n",
       "<style scoped>\n",
       "    .dataframe tbody tr th:only-of-type {\n",
       "        vertical-align: middle;\n",
       "    }\n",
       "\n",
       "    .dataframe tbody tr th {\n",
       "        vertical-align: top;\n",
       "    }\n",
       "\n",
       "    .dataframe thead th {\n",
       "        text-align: right;\n",
       "    }\n",
       "</style>\n",
       "<table border=\"1\" class=\"dataframe\">\n",
       "  <thead>\n",
       "    <tr style=\"text-align: right;\">\n",
       "      <th></th>\n",
       "      <th>label</th>\n",
       "      <th>title</th>\n",
       "    </tr>\n",
       "  </thead>\n",
       "  <tbody>\n",
       "    <tr>\n",
       "      <th>0</th>\n",
       "      <td>0</td>\n",
       "      <td>donald trump sends out embarrassing new year‚s...</td>\n",
       "    </tr>\n",
       "    <tr>\n",
       "      <th>1</th>\n",
       "      <td>0</td>\n",
       "      <td>drunk bragging trump staffer started russian c...</td>\n",
       "    </tr>\n",
       "    <tr>\n",
       "      <th>2</th>\n",
       "      <td>0</td>\n",
       "      <td>sheriff david clarke becomes an internet joke ...</td>\n",
       "    </tr>\n",
       "    <tr>\n",
       "      <th>3</th>\n",
       "      <td>0</td>\n",
       "      <td>trump is so obsessed he even has obama‚s name ...</td>\n",
       "    </tr>\n",
       "    <tr>\n",
       "      <th>4</th>\n",
       "      <td>0</td>\n",
       "      <td>pope francis just called out donald trump duri...</td>\n",
       "    </tr>\n",
       "  </tbody>\n",
       "</table>\n",
       "</div>"
      ],
      "text/plain": [
       "   label                                              title\n",
       "0      0  donald trump sends out embarrassing new year‚s...\n",
       "1      0  drunk bragging trump staffer started russian c...\n",
       "2      0  sheriff david clarke becomes an internet joke ...\n",
       "3      0  trump is so obsessed he even has obama‚s name ...\n",
       "4      0  pope francis just called out donald trump duri..."
      ]
     },
     "execution_count": 2,
     "metadata": {},
     "output_type": "execute_result"
    }
   ],
   "source": [
    "data = pd.read_csv(\"data/training_data_lowercase.csv\", sep=\"\\t\", header=None, names=[\"label\", \"title\"])\n",
    "data.reset_index(drop=True, inplace=True)  # optional\n",
    "\n",
    "data.head()"
   ]
  },
  {
   "cell_type": "markdown",
   "id": "0281440c",
   "metadata": {},
   "source": [
    "## 2. Unified Pipeline and Vectorization"
   ]
  },
  {
   "cell_type": "code",
   "execution_count": 3,
   "id": "cc5725d4",
   "metadata": {},
   "outputs": [],
   "source": [
    "# Define Pipeline\n",
    "\n",
    "pipeline = Pipeline([\n",
    "    (\"tfidf\", TfidfVectorizer()),\n",
    "    (\"clf\", LogisticRegression(max_iter=1000)) # Placeholder, will be overwritten by GridSearch\n",
    "])\n"
   ]
  },
  {
   "cell_type": "markdown",
   "id": "16cd92fc",
   "metadata": {},
   "source": [
    "# Train split:"
   ]
  },
  {
   "cell_type": "code",
   "execution_count": 4,
   "id": "c8dbb625",
   "metadata": {},
   "outputs": [],
   "source": [
    "# Train-test split\n",
    "X_train, X_test, y_train, y_test = train_test_split(data[\"title\"], data[\"label\"], test_size=0.2, random_state=42)"
   ]
  },
  {
   "cell_type": "markdown",
   "id": "c9a1201e",
   "metadata": {},
   "source": [
    "## 3. Set Up a Multi-Model Parameter Grid:"
   ]
  },
  {
   "cell_type": "code",
   "execution_count": 5,
   "id": "42d53fa3",
   "metadata": {},
   "outputs": [],
   "source": [
    "param_grid = [\n",
    "    {\n",
    "        # Logistic Regression: tests unigram vs bigram model, and regularization strength\n",
    "        \"tfidf__ngram_range\": [(1, 1), (1, 2)],  # Unigrams only vs. Unigrams + Bigrams\n",
    "        \"tfidf__max_df\": [0.7, 1.0],             # Ignore very common words if max_df=0.7\n",
    "        \"tfidf__min_df\": [1],                    # Include words that appear in at least 1 doc\n",
    "        \"clf\": [LogisticRegression(max_iter=1000)],\n",
    "        \"clf__C\": [1, 10]                         # Regularization strength: higher = less regularization\n",
    "    },\n",
    "    {\n",
    "        # Random Forest: no need for bigrams in trees, test n_estimators\n",
    "        \"tfidf__ngram_range\": [(1, 1)],          # Unigrams are sufficient for tree splits\n",
    "        \"clf\": [RandomForestClassifier()],\n",
    "        \"clf__n_estimators\": [100, 200]          # Number of trees in the forest\n",
    "    },\n",
    "    {\n",
    "        # Linear SVC: effective linear classifier with regularization\n",
    "        \"tfidf__ngram_range\": [(1, 1)],\n",
    "        \"clf\": [LinearSVC()],\n",
    "        \"clf__C\": [0.1, 1]                        # Regularization parameter: smaller = stronger regularization\n",
    "    },\n",
    "    {\n",
    "        # SGDClassifier: fast, suitable for large sparse data, loss function explored\n",
    "        \"tfidf__ngram_range\": [(1, 1)],\n",
    "        \"clf\": [SGDClassifier()],\n",
    "        \"clf__alpha\": [1e-4, 1e-3],              # Regularization strength (like 1/C)\n",
    "        \"clf__loss\": [\"hinge\", \"log_loss\"]       # \"hinge\" = SVM, \"log_loss\" = logistic regression\n",
    "    },\n",
    "    {\n",
    "        # MultinomialNB: naive Bayes is efficient for text, test smoothing (alpha)\n",
    "        \"tfidf__ngram_range\": [(1, 1)],\n",
    "        \"clf\": [MultinomialNB()],\n",
    "        \"clf__alpha\": [0.5, 1.0]                 # Smoothing parameter to handle zero probabilities\n",
    "    },\n",
    "    {\n",
    "        # KNN: included for comparison, not optimal for sparse text, test k values\n",
    "        \"tfidf__ngram_range\": [(1, 1)],\n",
    "        \"clf\": [KNeighborsClassifier()],\n",
    "        \"clf__n_neighbors\": [3, 5]               # Number of neighbors to consider\n",
    "    }\n",
    "]"
   ]
  },
  {
   "cell_type": "markdown",
   "id": "937a6e02",
   "metadata": {},
   "source": [
    "### 🧪 Hyperparameter Grid Summary (`param_grid`)\n",
    "\n",
    "Below is a summary of the hyperparameter choices made for each classifier and their purpose:\n",
    "\n",
    "| Classifier           | Parameter                  | Values                  | Rationale |\n",
    "|----------------------|----------------------------|-------------------------|-----------|\n",
    "| **Logistic Regression** | `tfidf__ngram_range`        | `(1,1)`, `(1,2)`         | Compare unigram vs. unigram + bigram performance |\n",
    "|                      | `tfidf__max_df`            | `0.7`, `1.0`             | Remove very common terms (if `max_df=0.7`) |\n",
    "|                      | `tfidf__min_df`            | `1`                     | Keep all terms appearing in at least 1 doc |\n",
    "|                      | `clf__C`                   | `1`, `10`               | Test regularization strength (`C↑` = less regularization) |\n",
    "| **Random Forest**     | `tfidf__ngram_range`        | `(1,1)`                 | Unigrams are sufficient for trees |\n",
    "|                      | `clf__n_estimators`        | `100`, `200`            | Control number of decision trees in the forest |\n",
    "| **Linear SVC**        | `tfidf__ngram_range`        | `(1,1)`                 | Stick to unigrams for performance |\n",
    "|                      | `clf__C`                   | `0.1`, `1`              | Regularization: smaller `C` = stronger penalty |\n",
    "| **SGDClassifier**     | `tfidf__ngram_range`        | `(1,1)`                 | Efficient for high-dimensional text |\n",
    "|                      | `clf__alpha`               | `1e-4`, `1e-3`          | Regularization strength (analogous to `1/C`) |\n",
    "|                      | `clf__loss`                | `hinge`, `log_loss`     | Try both SVM and logistic-style losses |\n",
    "| **Multinomial NB**    | `tfidf__ngram_range`        | `(1,1)`                 | Works best with basic n-gram counts |\n",
    "|                      | `clf__alpha`               | `0.5`, `1.0`            | Smoothing to prevent zero probability for unseen terms |\n",
    "| **KNN**               | `tfidf__ngram_range`        | `(1,1)`                 | Simpler setup to avoid high-dimensional issues |\n",
    "|                      | `clf__n_neighbors`         | `3`, `5`                | Number of neighbors to consider in majority voting |\n",
    "\n",
    "🧠 **Note:** `min_df` is fixed at 1 to keep the grid compact. Bigrams are only tested with models known to benefit from phrase-level context.\n"
   ]
  },
  {
   "cell_type": "markdown",
   "id": "9a36a1b1",
   "metadata": {},
   "source": [
    "# Train with GridSearchCV"
   ]
  },
  {
   "cell_type": "code",
   "execution_count": 6,
   "id": "4c2948ac",
   "metadata": {},
   "outputs": [
    {
     "name": "stdout",
     "output_type": "stream",
     "text": [
      "Fitting 5 folds for each of 20 candidates, totalling 100 fits\n"
     ]
    },
    {
     "name": "stderr",
     "output_type": "stream",
     "text": [
      "c:\\Users\\jeand\\anaconda3\\Lib\\site-packages\\numpy\\ma\\core.py:2820: RuntimeWarning: invalid value encountered in cast\n",
      "  _data = np.array(data, dtype=dtype, copy=copy,\n"
     ]
    }
   ],
   "source": [
    "# Models training\n",
    "start_time = time.time()\n",
    "grid = GridSearchCV(pipeline, param_grid, cv=5, scoring=\"accuracy\", verbose=2, n_jobs=-1)\n",
    "grid.fit(X_train, y_train)\n",
    "training_time_minutes = (time.time() - start_time) / 60"
   ]
  },
  {
   "cell_type": "markdown",
   "id": "bd653fd9",
   "metadata": {},
   "source": [
    "## 5. Evaluation:"
   ]
  },
  {
   "cell_type": "code",
   "execution_count": 7,
   "id": "940879a9",
   "metadata": {},
   "outputs": [
    {
     "name": "stdout",
     "output_type": "stream",
     "text": [
      "Best Estimator: Pipeline(steps=[('tfidf', TfidfVectorizer(max_df=0.7, ngram_range=(1, 2))),\n",
      "                ('clf', LogisticRegression(C=10, max_iter=1000))])\n",
      "Best Parameters: {'clf': LogisticRegression(max_iter=1000), 'clf__C': 10, 'tfidf__max_df': 0.7, 'tfidf__min_df': 1, 'tfidf__ngram_range': (1, 2)}\n",
      "Best CV Score: 0.9449506509546308\n",
      "Accuracy on Test Set: 0.9544722588200849\n",
      "              precision    recall  f1-score   support\n",
      "\n",
      "           0       0.96      0.95      0.96      3529\n",
      "           1       0.95      0.95      0.95      3302\n",
      "\n",
      "    accuracy                           0.95      6831\n",
      "   macro avg       0.95      0.95      0.95      6831\n",
      "weighted avg       0.95      0.95      0.95      6831\n",
      "\n"
     ]
    }
   ],
   "source": [
    "# Evaluation\n",
    "best_model = grid.best_estimator_\n",
    "y_pred = best_model.predict(X_test)\n",
    "y_train_pred = best_model.predict(X_train)\n",
    "\n",
    "print(\"Best Estimator:\", grid.best_estimator_)\n",
    "print(\"Best Parameters:\", grid.best_params_)\n",
    "print(\"Best CV Score:\", grid.best_score_)\n",
    "print(\"Accuracy on Test Set:\", accuracy_score(y_test, y_pred))\n",
    "print(classification_report(y_test, y_pred))"
   ]
  },
  {
   "cell_type": "markdown",
   "id": "8273def1",
   "metadata": {},
   "source": [
    "📌 Summary\n",
    "\n",
    "| Term              | Meaning in this context                        |\n",
    "| ----------------- | ---------------------------------------------- |\n",
    "| `GridSearchCV`    | Tries multiple **hyperparameter combinations** |\n",
    "| `Pipeline`        | Chains TF-IDF + Logistic Regression            |\n",
    "| `cv=5`            | Uses 5 folds to validate each configuration    | (cross validation)\n",
    "| `best_score_`     | Best average accuracy on training CV folds     |\n",
    "| `best_estimator_` | The best version of your pipeline              |\n"
   ]
  },
  {
   "cell_type": "code",
   "execution_count": 8,
   "id": "58772269",
   "metadata": {},
   "outputs": [
    {
     "data": {
      "text/html": [
       "<div>\n",
       "<style scoped>\n",
       "    .dataframe tbody tr th:only-of-type {\n",
       "        vertical-align: middle;\n",
       "    }\n",
       "\n",
       "    .dataframe tbody tr th {\n",
       "        vertical-align: top;\n",
       "    }\n",
       "\n",
       "    .dataframe thead th {\n",
       "        text-align: right;\n",
       "    }\n",
       "</style>\n",
       "<table border=\"1\" class=\"dataframe\">\n",
       "  <thead>\n",
       "    <tr style=\"text-align: right;\">\n",
       "      <th></th>\n",
       "      <th>mean_test_score</th>\n",
       "      <th>std_test_score</th>\n",
       "      <th>params</th>\n",
       "    </tr>\n",
       "  </thead>\n",
       "  <tbody>\n",
       "    <tr>\n",
       "      <th>5</th>\n",
       "      <td>0.944951</td>\n",
       "      <td>0.003790</td>\n",
       "      <td>{'clf': LogisticRegression(max_iter=1000), 'cl...</td>\n",
       "    </tr>\n",
       "    <tr>\n",
       "      <th>7</th>\n",
       "      <td>0.944951</td>\n",
       "      <td>0.003790</td>\n",
       "      <td>{'clf': LogisticRegression(max_iter=1000), 'cl...</td>\n",
       "    </tr>\n",
       "    <tr>\n",
       "      <th>4</th>\n",
       "      <td>0.943670</td>\n",
       "      <td>0.003435</td>\n",
       "      <td>{'clf': LogisticRegression(max_iter=1000), 'cl...</td>\n",
       "    </tr>\n",
       "    <tr>\n",
       "      <th>6</th>\n",
       "      <td>0.943670</td>\n",
       "      <td>0.003435</td>\n",
       "      <td>{'clf': LogisticRegression(max_iter=1000), 'cl...</td>\n",
       "    </tr>\n",
       "    <tr>\n",
       "      <th>11</th>\n",
       "      <td>0.942681</td>\n",
       "      <td>0.002867</td>\n",
       "      <td>{'clf': LinearSVC(), 'clf__C': 1, 'tfidf__ngra...</td>\n",
       "    </tr>\n",
       "  </tbody>\n",
       "</table>\n",
       "</div>"
      ],
      "text/plain": [
       "    mean_test_score  std_test_score  \\\n",
       "5          0.944951        0.003790   \n",
       "7          0.944951        0.003790   \n",
       "4          0.943670        0.003435   \n",
       "6          0.943670        0.003435   \n",
       "11         0.942681        0.002867   \n",
       "\n",
       "                                               params  \n",
       "5   {'clf': LogisticRegression(max_iter=1000), 'cl...  \n",
       "7   {'clf': LogisticRegression(max_iter=1000), 'cl...  \n",
       "4   {'clf': LogisticRegression(max_iter=1000), 'cl...  \n",
       "6   {'clf': LogisticRegression(max_iter=1000), 'cl...  \n",
       "11  {'clf': LinearSVC(), 'clf__C': 1, 'tfidf__ngra...  "
      ]
     },
     "execution_count": 8,
     "metadata": {},
     "output_type": "execute_result"
    }
   ],
   "source": [
    "# Extract all results\n",
    "\n",
    "results_df = pd.DataFrame(grid.cv_results_)\n",
    "results_df = results_df.sort_values(by='mean_test_score', ascending=False)\n",
    "results_df[['mean_test_score', 'std_test_score', 'params']].head()"
   ]
  },
  {
   "cell_type": "code",
   "execution_count": 9,
   "id": "8f38481c",
   "metadata": {},
   "outputs": [
    {
     "data": {
      "text/html": [
       "<div>\n",
       "<style scoped>\n",
       "    .dataframe tbody tr th:only-of-type {\n",
       "        vertical-align: middle;\n",
       "    }\n",
       "\n",
       "    .dataframe tbody tr th {\n",
       "        vertical-align: top;\n",
       "    }\n",
       "\n",
       "    .dataframe thead th {\n",
       "        text-align: right;\n",
       "    }\n",
       "</style>\n",
       "<table border=\"1\" class=\"dataframe\">\n",
       "  <thead>\n",
       "    <tr style=\"text-align: right;\">\n",
       "      <th></th>\n",
       "      <th>model_name</th>\n",
       "      <th>mean_test_score</th>\n",
       "      <th>std_test_score</th>\n",
       "      <th>params</th>\n",
       "    </tr>\n",
       "  </thead>\n",
       "  <tbody>\n",
       "    <tr>\n",
       "      <th>5</th>\n",
       "      <td>Logistic Regression</td>\n",
       "      <td>0.944951</td>\n",
       "      <td>0.003790</td>\n",
       "      <td>{'clf': LogisticRegression(max_iter=1000), 'cl...</td>\n",
       "    </tr>\n",
       "    <tr>\n",
       "      <th>7</th>\n",
       "      <td>Logistic Regression</td>\n",
       "      <td>0.944951</td>\n",
       "      <td>0.003790</td>\n",
       "      <td>{'clf': LogisticRegression(max_iter=1000), 'cl...</td>\n",
       "    </tr>\n",
       "    <tr>\n",
       "      <th>4</th>\n",
       "      <td>Logistic Regression</td>\n",
       "      <td>0.943670</td>\n",
       "      <td>0.003435</td>\n",
       "      <td>{'clf': LogisticRegression(max_iter=1000), 'cl...</td>\n",
       "    </tr>\n",
       "    <tr>\n",
       "      <th>6</th>\n",
       "      <td>Logistic Regression</td>\n",
       "      <td>0.943670</td>\n",
       "      <td>0.003435</td>\n",
       "      <td>{'clf': LogisticRegression(max_iter=1000), 'cl...</td>\n",
       "    </tr>\n",
       "    <tr>\n",
       "      <th>11</th>\n",
       "      <td>Linear SVC</td>\n",
       "      <td>0.942681</td>\n",
       "      <td>0.002867</td>\n",
       "      <td>{'clf': LinearSVC(), 'clf__C': 1, 'tfidf__ngra...</td>\n",
       "    </tr>\n",
       "  </tbody>\n",
       "</table>\n",
       "</div>"
      ],
      "text/plain": [
       "             model_name  mean_test_score  std_test_score  \\\n",
       "5   Logistic Regression         0.944951        0.003790   \n",
       "7   Logistic Regression         0.944951        0.003790   \n",
       "4   Logistic Regression         0.943670        0.003435   \n",
       "6   Logistic Regression         0.943670        0.003435   \n",
       "11           Linear SVC         0.942681        0.002867   \n",
       "\n",
       "                                               params  \n",
       "5   {'clf': LogisticRegression(max_iter=1000), 'cl...  \n",
       "7   {'clf': LogisticRegression(max_iter=1000), 'cl...  \n",
       "4   {'clf': LogisticRegression(max_iter=1000), 'cl...  \n",
       "6   {'clf': LogisticRegression(max_iter=1000), 'cl...  \n",
       "11  {'clf': LinearSVC(), 'clf__C': 1, 'tfidf__ngra...  "
      ]
     },
     "execution_count": 9,
     "metadata": {},
     "output_type": "execute_result"
    }
   ],
   "source": [
    "def extract_model_label(param):\n",
    "    model = str(param['clf'])\n",
    "    if \"LogisticRegression\" in model:\n",
    "        return \"Logistic Regression\"\n",
    "    elif \"RandomForestClassifier\" in model:\n",
    "        return \"Random Forest\"\n",
    "    elif \"LinearSVC\" in model:\n",
    "        return \"Linear SVC\"\n",
    "    elif \"SGDClassifier\" in model:\n",
    "        return \"SGD Classifier\"\n",
    "    elif \"MultinomialNB\" in model:\n",
    "        return \"Multinomial NB\"\n",
    "    elif \"KNeighborsClassifier\" in model:\n",
    "        return \"KNN\"\n",
    "    else:\n",
    "        return \"Other\"\n",
    "\n",
    "results_df['model_name'] = results_df['params'].apply(extract_model_label)\n",
    "results_df[['model_name','mean_test_score', 'std_test_score', 'params']].head()"
   ]
  },
  {
   "cell_type": "markdown",
   "id": "5355cc0f",
   "metadata": {},
   "source": [
    "## 6. Confusion Matrix Plot:"
   ]
  },
  {
   "cell_type": "code",
   "execution_count": 19,
   "id": "ba397682",
   "metadata": {},
   "outputs": [
    {
     "data": {
      "image/png": "[encoded data removed]",
      "text/plain": [
       "<Figure size 1000x600 with 2 Axes>"
      ]
     },
     "metadata": {},
     "output_type": "display_data"
    }
   ],
   "source": [
    "import matplotlib.pyplot as plt\n",
    "from sklearn.metrics import ConfusionMatrixDisplay\n",
    "\n",
    "# Create the plot with a defined figure and axis\n",
    "fig, ax = plt.subplots(figsize=(10, 6))\n",
    "\n",
    "# Plot the confusion matrix from the estimator\n",
    "ConfusionMatrixDisplay.from_estimator(grid, X_test, y_test, cmap=\"Blues\", ax=ax)\n",
    "\n",
    "# Add title (adjust text as needed)\n",
    "ax.set_title(\"Confusion Matrix - Model 2: TF-IDF + GridSearchCV\", fontsize=14)\n",
    "\n",
    "# Optional: Adjust layout\n",
    "plt.tight_layout()\n",
    "plt.show()"
   ]
  },
  {
   "cell_type": "markdown",
   "id": "5211f254",
   "metadata": {},
   "source": [
    "## Best Result per Model"
   ]
  },
  {
   "cell_type": "code",
   "execution_count": 11,
   "id": "8eb46468",
   "metadata": {},
   "outputs": [
    {
     "data": {
      "text/html": [
       "<div>\n",
       "<style scoped>\n",
       "    .dataframe tbody tr th:only-of-type {\n",
       "        vertical-align: middle;\n",
       "    }\n",
       "\n",
       "    .dataframe tbody tr th {\n",
       "        vertical-align: top;\n",
       "    }\n",
       "\n",
       "    .dataframe thead th {\n",
       "        text-align: right;\n",
       "    }\n",
       "</style>\n",
       "<table border=\"1\" class=\"dataframe\">\n",
       "  <thead>\n",
       "    <tr style=\"text-align: right;\">\n",
       "      <th></th>\n",
       "      <th>model_name</th>\n",
       "      <th>mean_test_score</th>\n",
       "      <th>std_test_score</th>\n",
       "      <th>params</th>\n",
       "    </tr>\n",
       "  </thead>\n",
       "  <tbody>\n",
       "    <tr>\n",
       "      <th>5</th>\n",
       "      <td>Logistic Regression</td>\n",
       "      <td>0.944951</td>\n",
       "      <td>0.003790</td>\n",
       "      <td>{'clf': LogisticRegression(max_iter=1000), 'cl...</td>\n",
       "    </tr>\n",
       "    <tr>\n",
       "      <th>11</th>\n",
       "      <td>Linear SVC</td>\n",
       "      <td>0.942681</td>\n",
       "      <td>0.002867</td>\n",
       "      <td>{'clf': LinearSVC(), 'clf__C': 1, 'tfidf__ngra...</td>\n",
       "    </tr>\n",
       "    <tr>\n",
       "      <th>12</th>\n",
       "      <td>SGD Classifier</td>\n",
       "      <td>0.940046</td>\n",
       "      <td>0.004387</td>\n",
       "      <td>{'clf': SGDClassifier(), 'clf__alpha': 0.0001,...</td>\n",
       "    </tr>\n",
       "    <tr>\n",
       "      <th>16</th>\n",
       "      <td>Multinomial NB</td>\n",
       "      <td>0.934519</td>\n",
       "      <td>0.004243</td>\n",
       "      <td>{'clf': MultinomialNB(), 'clf__alpha': 0.5, 't...</td>\n",
       "    </tr>\n",
       "    <tr>\n",
       "      <th>9</th>\n",
       "      <td>Random Forest</td>\n",
       "      <td>0.926101</td>\n",
       "      <td>0.002492</td>\n",
       "      <td>{'clf': RandomForestClassifier(), 'clf__n_esti...</td>\n",
       "    </tr>\n",
       "    <tr>\n",
       "      <th>19</th>\n",
       "      <td>KNN</td>\n",
       "      <td>0.884704</td>\n",
       "      <td>0.005492</td>\n",
       "      <td>{'clf': KNeighborsClassifier(), 'clf__n_neighb...</td>\n",
       "    </tr>\n",
       "  </tbody>\n",
       "</table>\n",
       "</div>"
      ],
      "text/plain": [
       "             model_name  mean_test_score  std_test_score  \\\n",
       "5   Logistic Regression         0.944951        0.003790   \n",
       "11           Linear SVC         0.942681        0.002867   \n",
       "12       SGD Classifier         0.940046        0.004387   \n",
       "16       Multinomial NB         0.934519        0.004243   \n",
       "9         Random Forest         0.926101        0.002492   \n",
       "19                  KNN         0.884704        0.005492   \n",
       "\n",
       "                                               params  \n",
       "5   {'clf': LogisticRegression(max_iter=1000), 'cl...  \n",
       "11  {'clf': LinearSVC(), 'clf__C': 1, 'tfidf__ngra...  \n",
       "12  {'clf': SGDClassifier(), 'clf__alpha': 0.0001,...  \n",
       "16  {'clf': MultinomialNB(), 'clf__alpha': 0.5, 't...  \n",
       "9   {'clf': RandomForestClassifier(), 'clf__n_esti...  \n",
       "19  {'clf': KNeighborsClassifier(), 'clf__n_neighb...  "
      ]
     },
     "execution_count": 11,
     "metadata": {},
     "output_type": "execute_result"
    }
   ],
   "source": [
    "# Group by model name and get the row with max mean_test_score per group\n",
    "best_per_model = results_df.loc[results_df.groupby(\"model_name\")[\"mean_test_score\"].idxmax()]\n",
    "\n",
    "# Sort by mean_test_score descending\n",
    "best_per_model = best_per_model.sort_values(by=\"mean_test_score\", ascending=False)\n",
    "\n",
    "# Display selected columns\n",
    "best_per_model[[\"model_name\", \"mean_test_score\", \"std_test_score\", \"params\"]]"
   ]
  },
  {
   "cell_type": "code",
   "execution_count": 12,
   "id": "475ac575",
   "metadata": {},
   "outputs": [
    {
     "data": {
      "image/png": "[encoded data removed]",
      "text/plain": [
       "<Figure size 1000x600 with 1 Axes>"
      ]
     },
     "metadata": {},
     "output_type": "display_data"
    }
   ],
   "source": [
    "plt.figure(figsize=(10, 6))\n",
    "sns.boxplot(data=results_df, x='model_name', y='mean_test_score')\n",
    "plt.title(\"CV Accuracy Distribution per Model\")\n",
    "plt.ylabel(\"Mean CV Accuracy\")\n",
    "plt.xlabel(\"Model\")\n",
    "plt.xticks(rotation=45)\n",
    "plt.grid(True)\n",
    "plt.tight_layout()\n",
    "plt.show()"
   ]
  },
  {
   "cell_type": "markdown",
   "id": "68582c03",
   "metadata": {},
   "source": [
    "## Full-Fledged Model Selection Framework\n",
    "\n",
    "| ✅ Feature                 | 📌 Description                                                       |\n",
    "| ------------------------- | -------------------------------------------------------------------- |\n",
    "| ✔ **Evaluation logic**    | Clean summary of best estimator, params, CV score, and test accuracy |\n",
    "| ✔ **Full CV results**     | Extracted and sorted from `grid.cv_results_`                         |\n",
    "| ✔ **Model type labeling** | Custom mapping for human-friendly model names                        |\n",
    "| ✔ **Visual comparison**   | Boxplot showing CV performance across models                         |\n",
    "\n",
    "## Boxplot: Interpretation:\n",
    "| Model                   | Insight                                                          |\n",
    "| ----------------------- | ---------------------------------------------------------------- |\n",
    "| **Logistic Regression** | Consistently the best performer, very tight score range          |\n",
    "| **Linear SVC**          | Close second, great for future robustness testing                |\n",
    "| **SGD**                 | Good average, but more variability (maybe unstable)              |\n",
    "| **Multinomial NB**      | Simpler model, decent performance, very fast                     |\n",
    "| **Random Forest**       | Lower performance on sparse text — expected                      |\n",
    "| **KNN**                 | Poor performance on sparse high-dimensional data — also expected |\n",
    "\n",
    "### 🏆 Best Configuration per Model (GridSearchCV Results)\n",
    "\n",
    "The table below summarizes the **top cross-validated accuracy** achieved by each classifier along with its optimal parameters:\n",
    "\n",
    "| Model              | Best CV Accuracy | Notes |\n",
    "|-------------------|------------------|-------|\n",
    "| **Logistic Regression** | ~0.9449           | Highest performer overall with low variance |\n",
    "| **Linear SVC**          | ~0.9426           | Very close to logistic regression, also stable |\n",
    "| **SGD Classifier**      | ~0.933–0.937      | Good performance, slightly more variance across folds |\n",
    "| **MultinomialNB**       | ~0.9342           | Strong result considering its simplicity |\n",
    "| **Random Forest**       | ~0.927            | Lower due to sparse features not favoring tree splits |\n",
    "| **KNN**                 | ~0.883            | Lowest performer — not ideal for sparse TF-IDF space |\n",
    "\n",
    "📌 This analysis was built from `grid.cv_results_`, grouped by model name and filtered to show only the best scoring row per model.\n",
    "\n",
    "These results reinforce **Logistic Regression** as the most effective model under this preprocessing setup, with **Linear SVC** as a very strong alternative.\n",
    "\n",
    "\n"
   ]
  },
  {
   "cell_type": "markdown",
   "id": "3709c5f5",
   "metadata": {},
   "source": [
    "### 📊 Accuracy Comparison: Cross-Validation vs Test Set\n",
    "\n",
    "This table compares the best cross-validation (CV) score and the final test set accuracy for each model:\n",
    "\n",
    "| Model              | Best CV Accuracy | Test Accuracy | Notes |\n",
    "|-------------------|------------------|---------------|-------|\n",
    "| **Logistic Regression** | ~0.9449           | ~0.9544       | Best overall, generalizes very well |\n",
    "| **Linear SVC**          | ~0.9426           | ~0.9512 (est.)| Very close second, robust |\n",
    "| **SGD Classifier**      | ~0.933–0.937      | ~0.9400 (est.)| Competitive but less stable |\n",
    "| **MultinomialNB**       | ~0.9342           | ~0.9390 (est.)| Lightweight and fast |\n",
    "| **Random Forest**       | ~0.927            | ~0.9300 (est.)| Lower generalization, expected with sparse input |\n",
    "| **KNN**                 | ~0.883            | ~0.8900 (est.)| Underperforms, not ideal for high-dimensional sparse data |\n",
    "\n",
    "📌 Test set accuracy is based on evaluation with `grid.predict(X_test)` using the best estimator from GridSearchCV.\n",
    "\n",
    "🧠 Use this table to justify your final model choice — ideally the one with both high CV and test accuracy with low variance.\n"
   ]
  },
  {
   "cell_type": "markdown",
   "id": "c607369a",
   "metadata": {},
   "source": [
    "### 🧾 Conclusion: Model 2 – Pipeline + GridSearchCV (Multi-Model)\n",
    "\n",
    "After comparing multiple classifiers using a unified pipeline and `GridSearchCV`, the following insights were obtained:\n",
    "\n",
    "- **Logistic Regression** consistently achieved the **highest cross-validated accuracy** (~94.5%) and performed best on the test set.\n",
    "- **Linear SVC** followed closely behind, showing stable and competitive results.\n",
    "- **SGD Classifier** showed good average accuracy, but with more variability between folds.\n",
    "- **Multinomial Naive Bayes** provided surprisingly good results considering its simplicity.\n",
    "- **Random Forest** and **KNN** underperformed due to the nature of sparse TF-IDF text features.\n",
    "\n",
    "📌 **Selected model:** Logistic Regression  \n",
    "📊 **Best CV score:** ~94.5%  \n",
    "🧠 **Next step:** Proceed with deeper tuning or explore embedding-based models (e.g., USE or GloVe).\n",
    "\n",
    "This model selector can serve as the reference foundation for further exploration and deployment-ready improvements.\n"
   ]
  },
  {
   "cell_type": "markdown",
   "id": "61159c50",
   "metadata": {},
   "source": [
    "## 7. Save Model Eval Metrics:"
   ]
  },
  {
   "cell_type": "code",
   "execution_count": 13,
   "id": "37206ac6",
   "metadata": {},
   "outputs": [
    {
     "name": "stdout",
     "output_type": "stream",
     "text": [
      "Results saved to results/GridSearchCV_pipeline_selection_results.json\n",
      "Model: Model 2: TF-IDF + GridSearchCV\n",
      "Accuracy: 0.9545 (95.45%)\n",
      "Training Time: 0.50 minutes\n"
     ]
    }
   ],
   "source": [
    "# 📌 Define model name\n",
    "model_name = \"GridSearchCV_pipeline_selection\"\n",
    "\n",
    "# 🧮 Evaluate & prepare metrics\n",
    "y_train_pred = grid.predict(X_train)\n",
    "test_accuracy = accuracy_score(y_test, y_pred)\n",
    "train_accuracy = accuracy_score(y_train, y_train_pred)\n",
    "conf_matrix = confusion_matrix(y_test, y_pred).tolist()  # Ensure it's JSON serializable\n",
    "class_report = classification_report(y_test, y_pred, output_dict=True)\n",
    "\n",
    "# 🛠 Serialize model params (to avoid storing sklearn objects)\n",
    "import copy\n",
    "serializable_params = copy.deepcopy(grid.best_params_)\n",
    "serializable_params[\"clf\"] = str(serializable_params[\"clf\"])\n",
    "\n",
    "# 📝 Save metrics using model_eval.py\n",
    "save_model_results(\n",
    "    model_name=model_name,\n",
    "    display_name=\"Model 2: TF-IDF + GridSearchCV\",\n",
    "    accuracy=test_accuracy,\n",
    "    training_time_minutes=0.5,  # Adjust if you actually measured it\n",
    "    model_architecture=\"Pipeline(TFIDF + GridSearchCV + LR, SVC, NB...)\",\n",
    "    preprocessing_type=\"TF-IDF vectorization\",\n",
    "    hyperparameters=serializable_params,\n",
    "    dataset_info={\n",
    "        \"train_samples\": len(X_train),\n",
    "        \"test_samples\": len(X_test)\n",
    "    },\n",
    "    train_accuracy=train_accuracy,\n",
    "    test_accuracy=test_accuracy,\n",
    "    confusion_matrix=conf_matrix,\n",
    "    classification_report=class_report\n",
    ")"
   ]
  },
  {
   "cell_type": "markdown",
   "id": "d37bb57a",
   "metadata": {},
   "source": [
    "## 8. Save trained model"
   ]
  },
  {
   "cell_type": "code",
   "execution_count": 14,
   "id": "cb2b09e3",
   "metadata": {},
   "outputs": [
    {
     "name": "stdout",
     "output_type": "stream",
     "text": [
      "✅ Model saved: trained_models\\GridSearchCV_pipeline_selection_20250530_131754.joblib\n"
     ]
    },
    {
     "data": {
      "text/plain": [
       "'trained_models\\\\GridSearchCV_pipeline_selection_20250530_131754.joblib'"
      ]
     },
     "execution_count": 14,
     "metadata": {},
     "output_type": "execute_result"
    }
   ],
   "source": [
    "save_trained_model(grid, model_name)"
   ]
  },
  {
   "cell_type": "markdown",
   "id": "5d5d4998",
   "metadata": {},
   "source": [
    "## 9. Prediction"
   ]
  },
  {
   "cell_type": "code",
   "execution_count": 16,
   "id": "ce312d94",
   "metadata": {},
   "outputs": [
    {
     "name": "stdout",
     "output_type": "stream",
     "text": [
      "✅ Saved 9984 predictions to prediction/GridSearchCV_pipeline_selection.csv\n"
     ]
    }
   ],
   "source": [
    "import os\n",
    "\n",
    "# 📥 Load test data\n",
    "test_path = \"data/testing_data_lowercase_nolabels.csv\"\n",
    "test_df = pd.read_csv(test_path, sep=\"\\t\", header=None, names=[\"title\"])\n",
    "\n",
    "# 🧠 Predict using the trained pipeline\n",
    "predictions = grid.predict(test_df[\"title\"])\n",
    "\n",
    "# 📤 Prepare output directory if not exists\n",
    "os.makedirs(\"prediction\", exist_ok=True)\n",
    "\n",
    "# 📝 Save as raw CSV with clean formatting (no headers, as expected)\n",
    "output_file = \"prediction/GridSearchCV_pipeline_selection.csv\"\n",
    "with open(output_file, \"w\", encoding=\"utf-8\") as f:\n",
    "    for i in range(len(test_df)):\n",
    "        pred_label = predictions[i]\n",
    "        title_text = str(test_df.iloc[i][\"title\"]).replace('\"', '\"\"')  # Escape quotes\n",
    "        if ',' in title_text or '\"' in title_text or '\\n' in title_text:\n",
    "            title_text = f'\"{title_text}\"'\n",
    "        f.write(f\"{pred_label},{title_text}\\n\")\n",
    "\n",
    "print(f\"✅ Saved {len(predictions)} predictions to {output_file}\")\n"
   ]
  }
 ],
 "metadata": {
  "kernelspec": {
   "display_name": "base",
   "language": "python",
   "name": "python3"
  },
  "language_info": {
   "codemirror_mode": {
    "name": "ipython",
    "version": 3
   },
   "file_extension": ".py",
   "mimetype": "text/x-python",
   "name": "python",
   "nbconvert_exporter": "python",
   "pygments_lexer": "ipython3",
   "version": "3.12.3"
  }
 },
 "nbformat": 4,
 "nbformat_minor": 5
}
