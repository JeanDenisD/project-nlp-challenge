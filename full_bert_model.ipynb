{
 "cells": [
  {
   "cell_type": "markdown",
   "id": "bert-model-header",
   "metadata": {},
   "source": [
    "# BERT Model: Fine-tuned Transformer for Fake News Classification\n",
    "\n",
    "This notebook implements a fine-tuned BERT model for binary classification of fake vs real news articles.\n",
    "\n",
    "## 🔧 Steps:\n",
    "1. Import libraries and load data\n",
    "2. Minimal preprocessing (preserve structure for BERT)\n",
    "3. BERT tokenization and encoding\n",
    "4. Model setup and fine-tuning\n",
    "5. Training with validation\n",
    "6. Evaluation and comparison\n",
    "\n",
    "## ✅ Purpose:\n",
    "Achieve state-of-the-art performance using transformer architecture (~85-90% accuracy expected)."
   ]
  },
  {
   "cell_type": "markdown",
   "id": "imports-section",
   "metadata": {},
   "source": [
    "## 1. Import Libraries and Setup"
   ]
  },
  {
   "cell_type": "code",
   "execution_count": 1,
   "id": "imports",
   "metadata": {},
   "outputs": [
    {
     "name": "stdout",
     "output_type": "stream",
     "text": [
      "Using MPS (Metal Performance Shaders) for M4 acceleration\n",
      "PyTorch version: 2.5.1\n",
      "Device: mps\n"
     ]
    }
   ],
   "source": [
    "import pandas as pd\n",
    "import numpy as np\n",
    "import torch\n",
    "import torch.nn as nn\n",
    "from torch.utils.data import Dataset, DataLoader\n",
    "from transformers import (\n",
    "    AutoTokenizer, AutoModelForSequenceClassification,\n",
    "    TrainingArguments, Trainer, EarlyStoppingCallback\n",
    ")\n",
    "from sklearn.model_selection import train_test_split\n",
    "from sklearn.metrics import accuracy_score, classification_report, confusion_matrix\n",
    "import matplotlib.pyplot as plt\n",
    "import seaborn as sns\n",
    "from collections import Counter\n",
    "import time\n",
    "import warnings\n",
    "warnings.filterwarnings('ignore')\n",
    "\n",
    "# Import our preprocessing functions\n",
    "from preprocess import load_and_parse_data, create_train_validation_split\n",
    "\n",
    "# Check if MPS (Metal Performance Shaders) is available for M4\n",
    "if torch.backends.mps.is_available():\n",
    "    device = torch.device(\"mps\")\n",
    "    print(\"Using MPS (Metal Performance Shaders) for M4 acceleration\")\n",
    "elif torch.cuda.is_available():\n",
    "    device = torch.device(\"cuda\")\n",
    "    print(\"Using CUDA GPU\")\n",
    "else:\n",
    "    device = torch.device(\"cpu\")\n",
    "    print(\"Using CPU (this will be slower)\")\n",
    "\n",
    "print(f\"PyTorch version: {torch.__version__}\")\n",
    "print(f\"Device: {device}\")"
   ]
  },
  {
   "cell_type": "markdown",
   "id": "data-loading-section",
   "metadata": {},
   "source": [
    "## 2. Load and Parse Data\n",
    "\n",
    "Using our preprocessing module to load the tab-separated data format."
   ]
  },
  {
   "cell_type": "code",
   "execution_count": 2,
   "id": "data-loading",
   "metadata": {},
   "outputs": [
    {
     "name": "stdout",
     "output_type": "stream",
     "text": [
      "Loading training data...\n",
      "Loading data from data/training_data_lowercase.csv...\n",
      "Loaded 34151 articles\n",
      "Loading test data...\n",
      "Loading data from data/testing_data_lowercase_nolabels.csv...\n",
      "Loaded 9983 articles\n",
      "Training data shape: (34151, 2)\n",
      "Test data shape: (9983, 2)\n",
      "Label distribution: Counter({0: 17571, 1: 16580})\n",
      "\n",
      "Sample training data:\n",
      "Label 0: drunk bragging trump staffer started russian collusion investigation...\n",
      "Label 0: sheriff david clarke becomes an internet joke for threatening to poke people ‚in...\n",
      "Label 0: trump is so obsessed he even has obama‚s name coded into his website (images)...\n"
     ]
    }
   ],
   "source": [
    "# Load data using our preprocessing function\n",
    "print(\"Loading training data...\")\n",
    "train_data = load_and_parse_data('data/training_data_lowercase.csv')\n",
    "\n",
    "print(\"Loading test data...\")\n",
    "test_data = load_and_parse_data('data/testing_data_lowercase_nolabels.csv')\n",
    "\n",
    "# Convert to DataFrames for easier handling\n",
    "train_df = pd.DataFrame(train_data)\n",
    "test_df = pd.DataFrame(test_data)\n",
    "\n",
    "print(f\"Training data shape: {train_df.shape}\")\n",
    "print(f\"Test data shape: {test_df.shape}\")\n",
    "print(f\"Label distribution: {Counter(train_df['label'])}\")\n",
    "\n",
    "# Show sample data\n",
    "print(\"\\nSample training data:\")\n",
    "for i in range(3):\n",
    "    print(f\"Label {train_df.iloc[i]['label']}: {train_df.iloc[i]['text'][:80]}...\")"
   ]
  },
  {
   "cell_type": "markdown",
   "id": "preprocessing-section",
   "metadata": {},
   "source": [
    "## 3. Minimal Text Preprocessing\n",
    "\n",
    "BERT works best with minimal preprocessing - we'll only clean essential formatting issues while preserving punctuation and structure."
   ]
  },
  {
   "cell_type": "code",
   "execution_count": 3,
   "id": "preprocessing",
   "metadata": {},
   "outputs": [
    {
     "name": "stdout",
     "output_type": "stream",
     "text": [
      "Text length statistics (words):\n",
      "Mean: 11.7\n",
      "Median: 11.0\n",
      "95th percentile: 19.0\n",
      "99th percentile: 24.0\n",
      "\n",
      "Using max_length: 39\n"
     ]
    }
   ],
   "source": [
    "def minimal_bert_cleaning(text):\n",
    "    \"\"\"Minimal cleaning for BERT - preserve original structure\"\"\"\n",
    "    if pd.isna(text) or text == '':\n",
    "        return \"\"\n",
    "    \n",
    "    # Convert to string and remove excessive whitespace only\n",
    "    text = str(text).strip()\n",
    "    text = ' '.join(text.split())  # Remove extra spaces\n",
    "    \n",
    "    return text\n",
    "\n",
    "# Apply minimal cleaning\n",
    "train_df['clean_text'] = train_df['text'].apply(minimal_bert_cleaning)\n",
    "test_df['clean_text'] = test_df['text'].apply(minimal_bert_cleaning)\n",
    "\n",
    "# Remove any empty texts\n",
    "train_df = train_df[train_df['clean_text'].str.len() > 0].reset_index(drop=True)\n",
    "\n",
    "# Analyze text lengths for optimal max_length\n",
    "text_lengths = train_df['clean_text'].str.split().str.len()\n",
    "print(f\"Text length statistics (words):\")\n",
    "print(f\"Mean: {text_lengths.mean():.1f}\")\n",
    "print(f\"Median: {text_lengths.median():.1f}\")\n",
    "print(f\"95th percentile: {text_lengths.quantile(0.95):.1f}\")\n",
    "print(f\"99th percentile: {text_lengths.quantile(0.99):.1f}\")\n",
    "\n",
    "# Choose max_length based on 95th percentile + buffer\n",
    "max_length = min(256, int(text_lengths.quantile(0.95)) + 20)\n",
    "print(f\"\\nUsing max_length: {max_length}\")"
   ]
  },
  {
   "cell_type": "markdown",
   "id": "tokenization-section",
   "metadata": {},
   "source": [
    "## 4. BERT Tokenization and Dataset Creation\n",
    "\n",
    "Setting up BERT tokenizer and creating PyTorch datasets for training."
   ]
  },
  {
   "cell_type": "code",
   "execution_count": 4,
   "id": "tokenization",
   "metadata": {},
   "outputs": [
    {
     "name": "stdout",
     "output_type": "stream",
     "text": [
      "Using model: bert-base-uncased\n",
      "Tokenizer vocabulary size: 30522\n",
      "Train set: 27320 samples\n",
      "Validation set: 6831 samples\n",
      "Train label distribution: Counter({0: 14056, 1: 13264})\n",
      "Validation label distribution: Counter({0: 3515, 1: 3316})\n",
      "\n",
      "Dataset sizes:\n",
      "Training: 27320\n",
      "Validation: 6831\n",
      "\n",
      "Sample tokenization shape:\n",
      "Input IDs: torch.Size([39])\n",
      "Attention mask: torch.Size([39])\n",
      "Label: 0\n"
     ]
    }
   ],
   "source": [
    "# Initialize BERT tokenizer\n",
    "model_name = 'bert-base-uncased'\n",
    "tokenizer = AutoTokenizer.from_pretrained(model_name)\n",
    "\n",
    "print(f\"Using model: {model_name}\")\n",
    "print(f\"Tokenizer vocabulary size: {len(tokenizer.vocab)}\")\n",
    "\n",
    "class NewsDataset(Dataset):\n",
    "    \"\"\"Custom dataset for news classification\"\"\"\n",
    "    \n",
    "    def __init__(self, texts, labels, tokenizer, max_length):\n",
    "        self.texts = texts\n",
    "        self.labels = labels\n",
    "        self.tokenizer = tokenizer\n",
    "        self.max_length = max_length\n",
    "    \n",
    "    def __len__(self):\n",
    "        return len(self.texts)\n",
    "    \n",
    "    def __getitem__(self, idx):\n",
    "        text = str(self.texts[idx])\n",
    "        \n",
    "        # Tokenize text\n",
    "        encoding = self.tokenizer(\n",
    "            text,\n",
    "            add_special_tokens=True,\n",
    "            max_length=self.max_length,\n",
    "            padding='max_length',\n",
    "            truncation=True,\n",
    "            return_attention_mask=True,\n",
    "            return_tensors='pt'\n",
    "        )\n",
    "        \n",
    "        return {\n",
    "            'input_ids': encoding['input_ids'].flatten(),\n",
    "            'attention_mask': encoding['attention_mask'].flatten(),\n",
    "            'labels': torch.tensor(self.labels[idx], dtype=torch.long)\n",
    "        }\n",
    "\n",
    "# Create train/validation split using our preprocessing function\n",
    "train_texts, val_texts, train_labels, val_labels = create_train_validation_split(\n",
    "    [{'text': text, 'label': label} for text, label in zip(train_df['clean_text'], train_df['label'])],\n",
    "    test_size=0.2,\n",
    "    random_state=42\n",
    ")\n",
    "\n",
    "# Create datasets\n",
    "train_dataset = NewsDataset(train_texts, train_labels, tokenizer, max_length)\n",
    "val_dataset = NewsDataset(val_texts, val_labels, tokenizer, max_length)\n",
    "\n",
    "print(f\"\\nDataset sizes:\")\n",
    "print(f\"Training: {len(train_dataset)}\")\n",
    "print(f\"Validation: {len(val_dataset)}\")\n",
    "\n",
    "# Test tokenization on a sample\n",
    "sample = train_dataset[0]\n",
    "print(f\"\\nSample tokenization shape:\")\n",
    "print(f\"Input IDs: {sample['input_ids'].shape}\")\n",
    "print(f\"Attention mask: {sample['attention_mask'].shape}\")\n",
    "print(f\"Label: {sample['labels']}\")"
   ]
  },
  {
   "cell_type": "markdown",
   "id": "model-setup-section",
   "metadata": {},
   "source": [
    "## 5. Model Setup and Training Configuration\n",
    "\n",
    "Loading pre-trained BERT and setting up training parameters for fine-tuning."
   ]
  },
  {
   "cell_type": "code",
   "execution_count": null,
   "id": "model-setup",
   "metadata": {},
   "outputs": [
    {
     "name": "stderr",
     "output_type": "stream",
     "text": [
      "Some weights of BertForSequenceClassification were not initialized from the model checkpoint at bert-base-uncased and are newly initialized: ['classifier.bias', 'classifier.weight']\n",
      "You should probably TRAIN this model on a down-stream task to be able to use it for predictions and inference.\n"
     ]
    },
    {
     "name": "stdout",
     "output_type": "stream",
     "text": [
      "Model loaded with 109,483,778 parameters\n",
      "Model device: mps:0\n",
      "\n",
      "✅ Training setup complete!\n",
      "Batch size: 16\n",
      "Number of epochs: 3\n",
      "Learning rate: 5e-05\n"
     ]
    }
   ],
   "source": [
    "# Load pre-trained BERT model for sequence classification\n",
    "model = AutoModelForSequenceClassification.from_pretrained(\n",
    "    model_name,\n",
    "    num_labels=2,\n",
    "    output_attentions=False,\n",
    "    output_hidden_states=False\n",
    ")\n",
    "\n",
    "# Move model to device\n",
    "model.to(device)\n",
    "\n",
    "print(f\"Model loaded with {model.num_parameters():,} parameters\")\n",
    "print(f\"Model device: {next(model.parameters()).device}\")\n",
    "\n",
    "# Define training arguments\n",
    "training_args = TrainingArguments(\n",
    "    output_dir='./bert_results',\n",
    "    num_train_epochs=3,              # Start with 3 epochs\n",
    "    per_device_train_batch_size=16,  # Adjust based on memory\n",
    "    per_device_eval_batch_size=32,   # Larger batch for evaluation\n",
    "    warmup_steps=500,                # Warmup for learning rate\n",
    "    weight_decay=0.01,               # Regularization\n",
    "    logging_dir='./bert_logs',\n",
    "    logging_steps=100,\n",
    "    evaluation_strategy=\"steps\",\n",
    "    eval_steps=500,                  # Evaluate every 500 steps\n",
    "    save_strategy=\"steps\",\n",
    "    save_steps=500,\n",
    "    load_best_model_at_end=True,\n",
    "    metric_for_best_model=\"eval_accuracy\",\n",
    "    greater_is_better=True,\n",
    "    report_to=None,                  # Disable wandb/tensorboard\n",
    "    seed=42\n",
    ")\n",
    "\n",
    "# Define metrics computation\n",
    "def compute_metrics(eval_pred):\n",
    "    predictions, labels = eval_pred\n",
    "    predictions = np.argmax(predictions, axis=1)\n",
    "    accuracy = accuracy_score(labels, predictions)\n",
    "    return {'accuracy': accuracy}\n",
    "\n",
    "# Create trainer\n",
    "trainer = Trainer(\n",
    "    model=model,\n",
    "    args=training_args,\n",
    "    train_dataset=train_dataset,\n",
    "    eval_dataset=val_dataset,\n",
    "    compute_metrics=compute_metrics,\n",
    "    callbacks=[EarlyStoppingCallback(early_stopping_patience=2)]\n",
    ")\n",
    "\n",
    "print(\"\\nTraining setup complete!\")\n",
    "print(f\"Batch size: {training_args.per_device_train_batch_size}\")\n",
    "print(f\"Number of epochs: {training_args.num_train_epochs}\")\n",
    "print(f\"Learning rate: {training_args.learning_rate}\")"
   ]
  },
  {
   "cell_type": "markdown",
   "id": "training-section",
   "metadata": {},
   "source": [
    "## 6. Model Training\n",
    "\n",
    "Fine-tuning BERT on our fake news dataset with validation monitoring."
   ]
  },
  {
   "cell_type": "code",
   "execution_count": null,
   "id": "training",
   "metadata": {},
   "outputs": [
    {
     "name": "stdout",
     "output_type": "stream",
     "text": [
      "🚀 Starting BERT fine-tuning...\n",
      "Training on 27320 samples\n",
      "Validating on 6831 samples\n",
      "Using device: mps\n"
     ]
    },
    {
     "name": "stderr",
     "output_type": "stream",
     "text": [
      "huggingface/tokenizers: The current process just got forked, after parallelism has already been used. Disabling parallelism to avoid deadlocks...\n",
      "To disable this warning, you can either:\n",
      "\t- Avoid using `tokenizers` before the fork if possible\n",
      "\t- Explicitly set the environment variable TOKENIZERS_PARALLELISM=(true | false)\n"
     ]
    },
    {
     "data": {
      "application/vnd.jupyter.widget-view+json": {
       "model_id": "f186c346efb0427aa4f98b572d6cffca",
       "version_major": 2,
       "version_minor": 0
      },
      "text/plain": [
       "  0%|          | 0/5124 [00:00<?, ?it/s]"
      ]
     },
     "metadata": {},
     "output_type": "display_data"
    },
    {
     "name": "stdout",
     "output_type": "stream",
     "text": [
      "{'loss': 0.5632, 'grad_norm': 6.587740898132324, 'learning_rate': 1e-05, 'epoch': 0.06}\n",
      "{'loss': 0.2031, 'grad_norm': 0.942803680896759, 'learning_rate': 2e-05, 'epoch': 0.12}\n",
      "{'loss': 0.1786, 'grad_norm': 12.363300323486328, 'learning_rate': 3e-05, 'epoch': 0.18}\n",
      "{'loss': 0.1411, 'grad_norm': 8.008034706115723, 'learning_rate': 4e-05, 'epoch': 0.23}\n",
      "{'loss': 0.1508, 'grad_norm': 16.182992935180664, 'learning_rate': 5e-05, 'epoch': 0.29}\n"
     ]
    },
    {
     "data": {
      "application/vnd.jupyter.widget-view+json": {
       "model_id": "cbf78478b3d74f639415881bb0f0d57c",
       "version_major": 2,
       "version_minor": 0
      },
      "text/plain": [
       "  0%|          | 0/214 [00:00<?, ?it/s]"
      ]
     },
     "metadata": {},
     "output_type": "display_data"
    },
    {
     "name": "stdout",
     "output_type": "stream",
     "text": [
      "{'eval_loss': 0.1207287535071373, 'eval_accuracy': 0.9571073049333919, 'eval_runtime': 12.3213, 'eval_samples_per_second': 554.405, 'eval_steps_per_second': 17.368, 'epoch': 0.29}\n",
      "{'loss': 0.1186, 'grad_norm': 0.0612666942179203, 'learning_rate': 4.891868512110727e-05, 'epoch': 0.35}\n",
      "{'loss': 0.1194, 'grad_norm': 5.375279426574707, 'learning_rate': 4.7837370242214535e-05, 'epoch': 0.41}\n",
      "{'loss': 0.1264, 'grad_norm': 4.827069282531738, 'learning_rate': 4.67560553633218e-05, 'epoch': 0.47}\n",
      "{'loss': 0.0899, 'grad_norm': 11.05778694152832, 'learning_rate': 4.567474048442907e-05, 'epoch': 0.53}\n",
      "{'loss': 0.1014, 'grad_norm': 2.731820821762085, 'learning_rate': 4.459342560553633e-05, 'epoch': 0.59}\n"
     ]
    },
    {
     "data": {
      "application/vnd.jupyter.widget-view+json": {
       "model_id": "c5cdf129fdb64aa89b639bc61358c285",
       "version_major": 2,
       "version_minor": 0
      },
      "text/plain": [
       "  0%|          | 0/214 [00:00<?, ?it/s]"
      ]
     },
     "metadata": {},
     "output_type": "display_data"
    },
    {
     "name": "stdout",
     "output_type": "stream",
     "text": [
      "{'eval_loss': 0.07583854347467422, 'eval_accuracy': 0.9745278875713659, 'eval_runtime': 12.0998, 'eval_samples_per_second': 564.556, 'eval_steps_per_second': 17.686, 'epoch': 0.59}\n",
      "{'loss': 0.0934, 'grad_norm': 17.603483200073242, 'learning_rate': 4.35121107266436e-05, 'epoch': 0.64}\n",
      "{'loss': 0.0835, 'grad_norm': 0.8098966479301453, 'learning_rate': 4.2430795847750865e-05, 'epoch': 0.7}\n",
      "{'loss': 0.0878, 'grad_norm': 3.538569450378418, 'learning_rate': 4.134948096885813e-05, 'epoch': 0.76}\n",
      "{'loss': 0.1034, 'grad_norm': 14.986541748046875, 'learning_rate': 4.02681660899654e-05, 'epoch': 0.82}\n",
      "{'loss': 0.0719, 'grad_norm': 0.02104133740067482, 'learning_rate': 3.9186851211072664e-05, 'epoch': 0.88}\n"
     ]
    },
    {
     "data": {
      "application/vnd.jupyter.widget-view+json": {
       "model_id": "34d9a7701c0f41d3a4241bd33f6eaed0",
       "version_major": 2,
       "version_minor": 0
      },
      "text/plain": [
       "  0%|          | 0/214 [00:00<?, ?it/s]"
      ]
     },
     "metadata": {},
     "output_type": "display_data"
    },
    {
     "name": "stdout",
     "output_type": "stream",
     "text": [
      "{'eval_loss': 0.09248965978622437, 'eval_accuracy': 0.976723759332455, 'eval_runtime': 11.9271, 'eval_samples_per_second': 572.727, 'eval_steps_per_second': 17.942, 'epoch': 0.88}\n",
      "{'loss': 0.0857, 'grad_norm': 0.09035959839820862, 'learning_rate': 3.810553633217993e-05, 'epoch': 0.94}\n",
      "{'loss': 0.0798, 'grad_norm': 0.2120247185230255, 'learning_rate': 3.70242214532872e-05, 'epoch': 1.0}\n",
      "{'loss': 0.0522, 'grad_norm': 0.0326683409512043, 'learning_rate': 3.594290657439446e-05, 'epoch': 1.05}\n",
      "{'loss': 0.0435, 'grad_norm': 0.03243577107787132, 'learning_rate': 3.4861591695501735e-05, 'epoch': 1.11}\n",
      "{'loss': 0.0291, 'grad_norm': 0.042618174105882645, 'learning_rate': 3.3780276816608994e-05, 'epoch': 1.17}\n"
     ]
    },
    {
     "data": {
      "application/vnd.jupyter.widget-view+json": {
       "model_id": "c9b5eb0d7bee4e398cd88a5d9dab50f4",
       "version_major": 2,
       "version_minor": 0
      },
      "text/plain": [
       "  0%|          | 0/214 [00:00<?, ?it/s]"
      ]
     },
     "metadata": {},
     "output_type": "display_data"
    },
    {
     "name": "stdout",
     "output_type": "stream",
     "text": [
      "{'eval_loss': 0.07997887581586838, 'eval_accuracy': 0.982579417362026, 'eval_runtime': 11.9507, 'eval_samples_per_second': 571.597, 'eval_steps_per_second': 17.907, 'epoch': 1.17}\n",
      "{'loss': 0.0591, 'grad_norm': 4.415080547332764, 'learning_rate': 3.269896193771627e-05, 'epoch': 1.23}\n",
      "{'loss': 0.0544, 'grad_norm': 1.8069206476211548, 'learning_rate': 3.161764705882353e-05, 'epoch': 1.29}\n",
      "{'loss': 0.0538, 'grad_norm': 0.03354167193174362, 'learning_rate': 3.05363321799308e-05, 'epoch': 1.35}\n",
      "{'loss': 0.0386, 'grad_norm': 0.04979759454727173, 'learning_rate': 2.9455017301038062e-05, 'epoch': 1.41}\n",
      "{'loss': 0.0605, 'grad_norm': 0.02187027409672737, 'learning_rate': 2.8373702422145332e-05, 'epoch': 1.46}\n"
     ]
    },
    {
     "data": {
      "application/vnd.jupyter.widget-view+json": {
       "model_id": "00a191dfbe9b4c0fab6866ca438e06fc",
       "version_major": 2,
       "version_minor": 0
      },
      "text/plain": [
       "  0%|          | 0/214 [00:00<?, ?it/s]"
      ]
     },
     "metadata": {},
     "output_type": "display_data"
    },
    {
     "name": "stdout",
     "output_type": "stream",
     "text": [
      "{'eval_loss': 0.0627058818936348, 'eval_accuracy': 0.9841897233201581, 'eval_runtime': 11.8511, 'eval_samples_per_second': 576.404, 'eval_steps_per_second': 18.057, 'epoch': 1.46}\n",
      "{'loss': 0.044, 'grad_norm': 0.08084985613822937, 'learning_rate': 2.7292387543252595e-05, 'epoch': 1.52}\n",
      "{'loss': 0.0308, 'grad_norm': 0.008139746263623238, 'learning_rate': 2.6211072664359864e-05, 'epoch': 1.58}\n",
      "{'loss': 0.032, 'grad_norm': 0.927106499671936, 'learning_rate': 2.5129757785467127e-05, 'epoch': 1.64}\n",
      "{'loss': 0.0232, 'grad_norm': 0.00381895387545228, 'learning_rate': 2.4048442906574396e-05, 'epoch': 1.7}\n",
      "{'loss': 0.0305, 'grad_norm': 0.008257513865828514, 'learning_rate': 2.2967128027681662e-05, 'epoch': 1.76}\n"
     ]
    },
    {
     "data": {
      "application/vnd.jupyter.widget-view+json": {
       "model_id": "412750d9b8e741e2971b66a78078ef28",
       "version_major": 2,
       "version_minor": 0
      },
      "text/plain": [
       "  0%|          | 0/214 [00:00<?, ?it/s]"
      ]
     },
     "metadata": {},
     "output_type": "display_data"
    },
    {
     "name": "stdout",
     "output_type": "stream",
     "text": [
      "{'eval_loss': 0.08238985389471054, 'eval_accuracy': 0.9846288976723759, 'eval_runtime': 11.915, 'eval_samples_per_second': 573.313, 'eval_steps_per_second': 17.961, 'epoch': 1.76}\n",
      "{'loss': 0.0537, 'grad_norm': 0.03827223554253578, 'learning_rate': 2.188581314878893e-05, 'epoch': 1.81}\n",
      "{'loss': 0.0454, 'grad_norm': 0.1814325749874115, 'learning_rate': 2.0804498269896195e-05, 'epoch': 1.87}\n",
      "{'loss': 0.0363, 'grad_norm': 0.056670285761356354, 'learning_rate': 1.972318339100346e-05, 'epoch': 1.93}\n",
      "{'loss': 0.032, 'grad_norm': 0.012431716546416283, 'learning_rate': 1.8641868512110727e-05, 'epoch': 1.99}\n",
      "{'loss': 0.0127, 'grad_norm': 0.006638172082602978, 'learning_rate': 1.7560553633217993e-05, 'epoch': 2.05}\n"
     ]
    },
    {
     "data": {
      "application/vnd.jupyter.widget-view+json": {
       "model_id": "78058aa84a85465682cfc4e24728db85",
       "version_major": 2,
       "version_minor": 0
      },
      "text/plain": [
       "  0%|          | 0/214 [00:00<?, ?it/s]"
      ]
     },
     "metadata": {},
     "output_type": "display_data"
    },
    {
     "name": "stdout",
     "output_type": "stream",
     "text": [
      "{'eval_loss': 0.07229050993919373, 'eval_accuracy': 0.9859464207290294, 'eval_runtime': 12.072, 'eval_samples_per_second': 565.855, 'eval_steps_per_second': 17.727, 'epoch': 2.05}\n",
      "{'loss': 0.0151, 'grad_norm': 0.095132976770401, 'learning_rate': 1.647923875432526e-05, 'epoch': 2.11}\n",
      "{'loss': 0.0102, 'grad_norm': 0.0030810523312538862, 'learning_rate': 1.5397923875432525e-05, 'epoch': 2.17}\n",
      "{'loss': 0.0151, 'grad_norm': 0.16782383620738983, 'learning_rate': 1.4316608996539793e-05, 'epoch': 2.22}\n",
      "{'loss': 0.007, 'grad_norm': 0.0017023980617523193, 'learning_rate': 1.323529411764706e-05, 'epoch': 2.28}\n",
      "{'loss': 0.0022, 'grad_norm': 0.005040291231125593, 'learning_rate': 1.2153979238754325e-05, 'epoch': 2.34}\n"
     ]
    },
    {
     "data": {
      "application/vnd.jupyter.widget-view+json": {
       "model_id": "2e56f52fae594393a7c12466d1e7c789",
       "version_major": 2,
       "version_minor": 0
      },
      "text/plain": [
       "  0%|          | 0/214 [00:00<?, ?it/s]"
      ]
     },
     "metadata": {},
     "output_type": "display_data"
    },
    {
     "name": "stdout",
     "output_type": "stream",
     "text": [
      "{'eval_loss': 0.0885820984840393, 'eval_accuracy': 0.9856536378275509, 'eval_runtime': 12.1066, 'eval_samples_per_second': 564.238, 'eval_steps_per_second': 17.676, 'epoch': 2.34}\n",
      "{'loss': 0.0058, 'grad_norm': 0.2586025595664978, 'learning_rate': 1.1072664359861593e-05, 'epoch': 2.4}\n",
      "{'loss': 0.023, 'grad_norm': 0.00724428053945303, 'learning_rate': 9.99134948096886e-06, 'epoch': 2.46}\n",
      "{'loss': 0.0035, 'grad_norm': 0.015371778048574924, 'learning_rate': 8.910034602076126e-06, 'epoch': 2.52}\n",
      "{'loss': 0.0056, 'grad_norm': 0.0017518915701657534, 'learning_rate': 7.828719723183392e-06, 'epoch': 2.58}\n",
      "{'loss': 0.005, 'grad_norm': 0.0006904737674631178, 'learning_rate': 6.747404844290659e-06, 'epoch': 2.63}\n"
     ]
    },
    {
     "data": {
      "application/vnd.jupyter.widget-view+json": {
       "model_id": "063411b46be545369e54443f85ccc125",
       "version_major": 2,
       "version_minor": 0
      },
      "text/plain": [
       "  0%|          | 0/214 [00:00<?, ?it/s]"
      ]
     },
     "metadata": {},
     "output_type": "display_data"
    },
    {
     "name": "stdout",
     "output_type": "stream",
     "text": [
      "{'eval_loss': 0.0872858390212059, 'eval_accuracy': 0.9858000292782901, 'eval_runtime': 12.3213, 'eval_samples_per_second': 554.406, 'eval_steps_per_second': 17.368, 'epoch': 2.63}\n",
      "{'train_runtime': 677.0699, 'train_samples_per_second': 121.051, 'train_steps_per_second': 7.568, 'train_loss': 0.07160505679249764, 'epoch': 2.63}\n",
      "\n",
      "✅ Training completed!\n",
      "Training time: 11.29 minutes\n",
      "Final training loss: 0.0716\n",
      "\n",
      "💾 Model saved to './bert_fine_tuned'\n"
     ]
    }
   ],
   "source": [
    "# Start training\n",
    "print(\"Starting BERT fine-tuning...\")\n",
    "print(f\"Training on {len(train_dataset)} samples\")\n",
    "print(f\"Validating on {len(val_dataset)} samples\")\n",
    "print(f\"Using device: {device}\")\n",
    "\n",
    "start_time = time.time()\n",
    "\n",
    "# Train the model\n",
    "train_result = trainer.train()\n",
    "\n",
    "training_time = time.time() - start_time\n",
    "\n",
    "print(f\"\\nTraining completed!\")\n",
    "print(f\"Training time: {training_time/60:.2f} minutes\")\n",
    "print(f\"Final training loss: {train_result.training_loss:.4f}\")\n",
    "\n",
    "# Save the trained model\n",
    "trainer.save_model('./bert_fine_tuned')\n",
    "print(\"\\nModel saved to './bert_fine_tuned'\")"
   ]
  },
  {
   "cell_type": "markdown",
   "id": "evaluation-section",
   "metadata": {},
   "source": [
    "## 7. Model Evaluation\n",
    "\n",
    "Comprehensive evaluation with accuracy, classification report, and confusion matrix."
   ]
  },
  {
   "cell_type": "code",
   "execution_count": 7,
   "id": "evaluation",
   "metadata": {},
   "outputs": [
    {
     "name": "stdout",
     "output_type": "stream",
     "text": [
      "🔍 Evaluating model performance...\n"
     ]
    },
    {
     "data": {
      "application/vnd.jupyter.widget-view+json": {
       "model_id": "b0eee21f4b204eaa8f418c14d7ace1bf",
       "version_major": 2,
       "version_minor": 0
      },
      "text/plain": [
       "  0%|          | 0/214 [00:00<?, ?it/s]"
      ]
     },
     "metadata": {},
     "output_type": "display_data"
    },
    {
     "name": "stdout",
     "output_type": "stream",
     "text": [
      "\n",
      "📊 BERT Model Results:\n",
      "Validation Accuracy: 0.9859 (98.59%)\n",
      "\n",
      "Classification Report:\n",
      "              precision    recall  f1-score   support\n",
      "\n",
      "    Fake (0)       0.99      0.99      0.99      3515\n",
      "    Real (1)       0.99      0.99      0.99      3316\n",
      "\n",
      "    accuracy                           0.99      6831\n",
      "   macro avg       0.99      0.99      0.99      6831\n",
      "weighted avg       0.99      0.99      0.99      6831\n",
      "\n"
     ]
    },
    {
     "data": {
      "image/png": "[encoded data removed]",
      "text/plain": [
       "<Figure size 800x600 with 2 Axes>"
      ]
     },
     "metadata": {},
     "output_type": "display_data"
    },
    {
     "name": "stdout",
     "output_type": "stream",
     "text": [
      "\n",
      "📈 Performance by Class:\n",
      "Fake (0): 0.9863 (98.63%)\n",
      "Real (1): 0.9855 (98.55%)\n"
     ]
    }
   ],
   "source": [
    "# Evaluate on validation set\n",
    "print(\"Evaluating model performance...\")\n",
    "\n",
    "# Get predictions\n",
    "predictions = trainer.predict(val_dataset)\n",
    "y_pred = np.argmax(predictions.predictions, axis=1)\n",
    "y_true = val_labels\n",
    "\n",
    "# Calculate metrics\n",
    "accuracy = accuracy_score(y_true, y_pred)\n",
    "print(f\"\\nBERT Model Results:\")\n",
    "print(f\"Validation Accuracy: {accuracy:.4f} ({accuracy*100:.2f}%)\")\n",
    "\n",
    "# Detailed classification report\n",
    "print(\"\\nClassification Report:\")\n",
    "class_names = ['Fake (0)', 'Real (1)']\n",
    "report = classification_report(y_true, y_pred, target_names=class_names)\n",
    "print(report)\n",
    "\n",
    "# Confusion Matrix\n",
    "cm = confusion_matrix(y_true, y_pred)\n",
    "plt.figure(figsize=(8, 6))\n",
    "sns.heatmap(cm, annot=True, fmt='d', cmap='Blues', \n",
    "            xticklabels=class_names, yticklabels=class_names)\n",
    "plt.title('BERT Model - Confusion Matrix')\n",
    "plt.xlabel('Predicted')\n",
    "plt.ylabel('Actual')\n",
    "plt.show()\n",
    "\n",
    "# Performance by class\n",
    "print(\"\\n📈 Performance by Class:\")\n",
    "for i, class_name in enumerate(class_names):\n",
    "    class_mask = np.array(y_true) == i\n",
    "    class_accuracy = accuracy_score(np.array(y_true)[class_mask], y_pred[class_mask])\n",
    "    print(f\"{class_name}: {class_accuracy:.4f} ({class_accuracy*100:.2f}%)\")"
   ]
  },
  {
   "cell_type": "markdown",
   "id": "comparison-section",
   "metadata": {},
   "source": [
    "## 8. Model Comparison and Analysis\n",
    "\n",
    "Comparing BERT performance with baseline and analyzing key insights."
   ]
  },
  {
   "cell_type": "code",
   "execution_count": 8,
   "id": "comparison",
   "metadata": {},
   "outputs": [
    {
     "data": {
      "image/png": "[encoded data removed]",
      "text/plain": [
       "<Figure size 1200x400 with 2 Axes>"
      ]
     },
     "metadata": {},
     "output_type": "display_data"
    },
    {
     "name": "stdout",
     "output_type": "stream",
     "text": [
      "Best validation accuracy: 0.9859\n",
      "Final validation accuracy: 0.9858\n",
      "\n",
      "==================================================\n",
      "MODEL COMPARISON SUMMARY\n",
      "==================================================\n",
      "Model: BERT-base-uncased\n",
      "Parameters: 109,483,778\n",
      "Training time: 11.29 minutes\n",
      "Validation accuracy: 0.9859 (98.59%)\n",
      "Max sequence length: 39\n",
      "Batch size: 16\n",
      "Device used: mps\n",
      "\n",
      "🎯 Performance vs Baseline:\n",
      "Baseline (Logistic Regression): ~0.70\n",
      "BERT Model: 0.9859\n",
      "Improvement: +0.2859 (28.59 percentage points)\n"
     ]
    }
   ],
   "source": [
    "# Training history analysis\n",
    "if hasattr(trainer.state, 'log_history'):\n",
    "    logs = trainer.state.log_history\n",
    "    \n",
    "    # Extract training and validation metrics\n",
    "    train_losses = [log['train_loss'] for log in logs if 'train_loss' in log]\n",
    "    eval_accuracies = [log['eval_accuracy'] for log in logs if 'eval_accuracy' in log]\n",
    "    \n",
    "    if train_losses and eval_accuracies:\n",
    "        plt.figure(figsize=(12, 4))\n",
    "        \n",
    "        # Training loss\n",
    "        plt.subplot(1, 2, 1)\n",
    "        plt.plot(train_losses)\n",
    "        plt.title('Training Loss')\n",
    "        plt.xlabel('Steps')\n",
    "        plt.ylabel('Loss')\n",
    "        plt.grid(True)\n",
    "        \n",
    "        # Validation accuracy\n",
    "        plt.subplot(1, 2, 2)\n",
    "        plt.plot(eval_accuracies)\n",
    "        plt.title('Validation Accuracy')\n",
    "        plt.xlabel('Evaluation Steps')\n",
    "        plt.ylabel('Accuracy')\n",
    "        plt.grid(True)\n",
    "        \n",
    "        plt.tight_layout()\n",
    "        plt.show()\n",
    "        \n",
    "        print(f\"Best validation accuracy: {max(eval_accuracies):.4f}\")\n",
    "        print(f\"Final validation accuracy: {eval_accuracies[-1]:.4f}\")\n",
    "\n",
    "# Model comparison summary\n",
    "print(\"\\n\" + \"=\"*50)\n",
    "print(\"MODEL COMPARISON SUMMARY\")\n",
    "print(\"=\"*50)\n",
    "print(f\"Model: BERT-base-uncased\")\n",
    "print(f\"Parameters: {model.num_parameters():,}\")\n",
    "print(f\"Training time: {training_time/60:.2f} minutes\")\n",
    "print(f\"Validation accuracy: {accuracy:.4f} ({accuracy*100:.2f}%)\")\n",
    "print(f\"Max sequence length: {max_length}\")\n",
    "print(f\"Batch size: {training_args.per_device_train_batch_size}\")\n",
    "print(f\"Device used: {device}\")\n",
    "\n",
    "# Expected performance note\n",
    "baseline_accuracy = 0.70  # Approximate baseline from logistic regression\n",
    "improvement = accuracy - baseline_accuracy\n",
    "print(f\"\\n🎯 Performance vs Baseline:\")\n",
    "print(f\"Baseline (Logistic Regression): ~{baseline_accuracy:.2f}\")\n",
    "print(f\"BERT Model: {accuracy:.4f}\")\n",
    "print(f\"Improvement: +{improvement:.4f} ({improvement*100:.2f} percentage points)\")"
   ]
  },
  {
   "cell_type": "markdown",
   "id": "predictions-section",
   "metadata": {},
   "source": [
    "## 9. Test Set Predictions (Optional)\n",
    "\n",
    "Generate predictions for the test set if needed for submission."
   ]
  },
  {
   "cell_type": "code",
   "execution_count": 9,
   "id": "test-predictions",
   "metadata": {},
   "outputs": [
    {
     "name": "stdout",
     "output_type": "stream",
     "text": [
      "Test predictions section ready (currently commented out)\n",
      "Uncomment the code above to generate test set predictions\n"
     ]
    }
   ],
   "source": [
    "# Uncomment this section if you need test set predictions\n",
    "\n",
    "# # Create test dataset (without labels)\n",
    "# test_texts = test_df['clean_text'].tolist()\n",
    "# test_labels = [0] * len(test_texts)  # Dummy labels for dataset creation\n",
    "# \n",
    "# test_dataset = NewsDataset(test_texts, test_labels, tokenizer, max_length)\n",
    "# \n",
    "# print(f\"Generating predictions for {len(test_dataset)} test samples...\")\n",
    "# \n",
    "# # Get predictions\n",
    "# test_predictions = trainer.predict(test_dataset)\n",
    "# test_pred_labels = np.argmax(test_predictions.predictions, axis=1)\n",
    "# test_pred_probs = torch.softmax(torch.tensor(test_predictions.predictions), dim=1)\n",
    "# \n",
    "# # Create submission DataFrame\n",
    "# submission_df = pd.DataFrame({\n",
    "#     'text': test_texts,\n",
    "#     'predicted_label': test_pred_labels,\n",
    "#     'fake_probability': test_pred_probs[:, 0].numpy(),\n",
    "#     'real_probability': test_pred_probs[:, 1].numpy()\n",
    "# })\n",
    "# \n",
    "# # Save predictions\n",
    "# submission_df.to_csv('bert_predictions.csv', index=False)\n",
    "# print(\"Test predictions saved to 'bert_predictions.csv'\")\n",
    "# \n",
    "# # Show sample predictions\n",
    "# print(\"\\nSample predictions:\")\n",
    "# print(submission_df[['predicted_label', 'fake_probability', 'real_probability']].head())\n",
    "\n",
    "print(\"Test predictions section ready (currently commented out)\")\n",
    "print(\"Uncomment the code above to generate test set predictions\")"
   ]
  },
  {
   "cell_type": "markdown",
   "id": "insights-section",
   "metadata": {},
   "source": [
    "## 10. Key Insights and Next Steps\n",
    "\n",
    "Summary of findings and recommendations for further improvement."
   ]
  },
  {
   "cell_type": "code",
   "execution_count": 10,
   "id": "insights",
   "metadata": {},
   "outputs": [
    {
     "name": "stdout",
     "output_type": "stream",
     "text": [
      "KEY INSIGHTS FROM BERT MODEL:\n",
      "==================================================\n",
      "Excellent performance: Model achieves high accuracy on fake news detection\n",
      "\n",
      "Model Statistics:\n",
      "• Final accuracy: 0.9859\n",
      "• Training efficiency: 2420 samples/minute\n",
      "• Model size: 109.5M parameters\n",
      "\n",
      "Potential Improvements:\n",
      "• Increase training epochs (currently 3)\n",
      "• Experiment with learning rate scheduling\n",
      "• Try ensemble with multiple models\n",
      "• Consider domain-specific fine-tuning\n",
      "• Implement advanced data augmentation\n",
      "\n",
      "Business Applications:\n",
      "• Real-time fake news detection systems\n",
      "• Social media content moderation\n",
      "• News credibility scoring\n",
      "• Educational fact-checking tools\n",
      "\n",
      "BERT Model Implementation Complete!\n",
      "Model ready for deployment and further optimization.\n"
     ]
    }
   ],
   "source": [
    "print(\"KEY INSIGHTS FROM BERT MODEL:\")\n",
    "print(\"=\"*50)\n",
    "\n",
    "# Model performance insights\n",
    "if accuracy > 0.85:\n",
    "    print(\"Excellent performance: Model achieves high accuracy on fake news detection\")\n",
    "elif accuracy > 0.80:\n",
    "    print(\"Good performance: Model shows strong fake news detection capabilities\")\n",
    "elif accuracy > 0.75:\n",
    "    print(\"Moderate performance: Room for improvement in fake news detection\")\n",
    "else:\n",
    "    print(\"Lower performance: Consider hyperparameter tuning or data quality\")\n",
    "\n",
    "print(f\"\\nModel Statistics:\")\n",
    "print(f\"• Final accuracy: {accuracy:.4f}\")\n",
    "print(f\"• Training efficiency: {len(train_dataset)/(training_time/60):.0f} samples/minute\")\n",
    "print(f\"• Model size: {model.num_parameters()/1e6:.1f}M parameters\")\n",
    "\n",
    "print(f\"\\nPotential Improvements:\")\n",
    "print(f\"• Increase training epochs (currently {training_args.num_train_epochs})\")\n",
    "print(f\"• Experiment with learning rate scheduling\")\n",
    "print(f\"• Try ensemble with multiple models\")\n",
    "print(f\"• Consider domain-specific fine-tuning\")\n",
    "print(f\"• Implement advanced data augmentation\")\n",
    "\n",
    "print(f\"\\nBusiness Applications:\")\n",
    "print(f\"• Real-time fake news detection systems\")\n",
    "print(f\"• Social media content moderation\")\n",
    "print(f\"• News credibility scoring\")\n",
    "print(f\"• Educational fact-checking tools\")\n",
    "\n",
    "print(f\"\\nBERT Model Implementation Complete!\")\n",
    "print(f\"Model ready for deployment and further optimization.\")"
   ]
  }
 ],
 "metadata": {
  "kernelspec": {
   "display_name": "base",
   "language": "python",
   "name": "python3"
  },
  "language_info": {
   "codemirror_mode": {
    "name": "ipython",
    "version": 3
   },
   "file_extension": ".py",
   "mimetype": "text/x-python",
   "name": "python",
   "nbconvert_exporter": "python",
   "pygments_lexer": "ipython3",
   "version": "3.12.2"
  }
 },
 "nbformat": 4,
 "nbformat_minor": 5
}
