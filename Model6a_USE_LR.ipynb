{
 "cells": [
  {
   "cell_type": "markdown",
   "id": "224a4842",
   "metadata": {},
   "source": [
    "# Model 6a: Embedding-Based Model (Universal Sentence Encoder + Logistic Regression)\n",
    "\n",
    "## 🎯 Objective:\n",
    "Use a pretrained embedding model (Universal Sentence Encoder) to capture deep semantic meaning of headlines, and apply a simple classifier (e.g., Logistic Regression) on top.\n",
    "\n",
    "## 🔧 Steps:\n",
    "1. Import Libraries & Load Data\n",
    "    - Load data.csv as usual\n",
    "    - Prepare X_train, X_test, y_train, y_test\n",
    "\n",
    "2. Text Embedding\n",
    "    - Use Universal Sentence Encoder (USE) via tensorflow_hub\n",
    "    - Encode each headline into a 512-dimensional dense vector\n",
    "\n",
    "3. Model Training\n",
    "    - Use LogisticRegression on the embedded vectors\n",
    "\n",
    "5. Evaluation\n",
    "    - Accuracy, classification report\n",
    "\n",
    "6. Confusion matrix\n",
    "\n",
    "7. Save Model Eval Metrics\n",
    "\n",
    "8. Save trained model\n",
    "\n",
    "##  ✅ Purpose:\n",
    "Leverage semantic-rich embeddings instead of hand-crafted features (TF-IDF). This gives a dense **representation of meaning**, and allows comparison with classical models from Model 0 and 2."
   ]
  },
  {
   "cell_type": "markdown",
   "id": "abf31b2c",
   "metadata": {},
   "source": [
    "## 1. Import Librairies and load data"
   ]
  },
  {
   "cell_type": "code",
   "execution_count": 2,
   "id": "639417f5",
   "metadata": {},
   "outputs": [],
   "source": [
    "import pandas as pd\n",
    "import numpy as np\n",
    "import tensorflow_hub as hub\n",
    "import tensorflow as tf\n",
    "import time\n",
    "\n",
    "from sklearn.model_selection import train_test_split\n",
    "from sklearn.linear_model import LogisticRegression\n",
    "from sklearn.metrics import classification_report, accuracy_score, precision_score, recall_score, f1_score, confusion_matrix\n",
    "from sklearn.metrics import ConfusionMatrixDisplay\n",
    "import matplotlib.pyplot as plt\n",
    "\n",
    "from model_eval import save_model_results, save_trained_model\n"
   ]
  },
  {
   "cell_type": "code",
   "execution_count": 3,
   "id": "cd4dd074",
   "metadata": {},
   "outputs": [
    {
     "data": {
      "text/html": [
       "<div>\n",
       "<style scoped>\n",
       "    .dataframe tbody tr th:only-of-type {\n",
       "        vertical-align: middle;\n",
       "    }\n",
       "\n",
       "    .dataframe tbody tr th {\n",
       "        vertical-align: top;\n",
       "    }\n",
       "\n",
       "    .dataframe thead th {\n",
       "        text-align: right;\n",
       "    }\n",
       "</style>\n",
       "<table border=\"1\" class=\"dataframe\">\n",
       "  <thead>\n",
       "    <tr style=\"text-align: right;\">\n",
       "      <th></th>\n",
       "      <th>label</th>\n",
       "      <th>title</th>\n",
       "    </tr>\n",
       "  </thead>\n",
       "  <tbody>\n",
       "    <tr>\n",
       "      <th>0</th>\n",
       "      <td>0</td>\n",
       "      <td>donald trump sends out embarrassing new year‚s...</td>\n",
       "    </tr>\n",
       "    <tr>\n",
       "      <th>1</th>\n",
       "      <td>0</td>\n",
       "      <td>drunk bragging trump staffer started russian c...</td>\n",
       "    </tr>\n",
       "    <tr>\n",
       "      <th>2</th>\n",
       "      <td>0</td>\n",
       "      <td>sheriff david clarke becomes an internet joke ...</td>\n",
       "    </tr>\n",
       "    <tr>\n",
       "      <th>3</th>\n",
       "      <td>0</td>\n",
       "      <td>trump is so obsessed he even has obama‚s name ...</td>\n",
       "    </tr>\n",
       "    <tr>\n",
       "      <th>4</th>\n",
       "      <td>0</td>\n",
       "      <td>pope francis just called out donald trump duri...</td>\n",
       "    </tr>\n",
       "  </tbody>\n",
       "</table>\n",
       "</div>"
      ],
      "text/plain": [
       "   label                                              title\n",
       "0      0  donald trump sends out embarrassing new year‚s...\n",
       "1      0  drunk bragging trump staffer started russian c...\n",
       "2      0  sheriff david clarke becomes an internet joke ...\n",
       "3      0  trump is so obsessed he even has obama‚s name ...\n",
       "4      0  pope francis just called out donald trump duri..."
      ]
     },
     "execution_count": 3,
     "metadata": {},
     "output_type": "execute_result"
    }
   ],
   "source": [
    "df = pd.read_csv(\"data/training_data_lowercase.csv\", sep=\"\\t\", header=None, names=[\"label\", \"title\"])\n",
    "# data.reset_index(drop=True, inplace=True)  # optional\n",
    "\n",
    "# Split the dataset\n",
    "X_train, X_test, y_train, y_test = train_test_split(df[\"title\"], df[\"label\"], test_size=0.2, random_state=42)\n",
    "\n",
    "df.head()"
   ]
  },
  {
   "cell_type": "markdown",
   "id": "0281440c",
   "metadata": {},
   "source": [
    "## 2. Text embbeding\n",
    "\n",
    "### Load Universal Sentence Encoder (USE)"
   ]
  },
  {
   "cell_type": "code",
   "execution_count": 4,
   "id": "cc5725d4",
   "metadata": {},
   "outputs": [
    {
     "name": "stdout",
     "output_type": "stream",
     "text": [
      "WARNING:tensorflow:From c:\\Users\\jeand\\anaconda3\\Lib\\site-packages\\tensorflow_hub\\resolver.py:120: The name tf.gfile.MakeDirs is deprecated. Please use tf.io.gfile.makedirs instead.\n",
      "\n"
     ]
    },
    {
     "name": "stderr",
     "output_type": "stream",
     "text": [
      "WARNING:tensorflow:From c:\\Users\\jeand\\anaconda3\\Lib\\site-packages\\tensorflow_hub\\resolver.py:120: The name tf.gfile.MakeDirs is deprecated. Please use tf.io.gfile.makedirs instead.\n",
      "\n"
     ]
    },
    {
     "name": "stdout",
     "output_type": "stream",
     "text": [
      "WARNING:tensorflow:From c:\\Users\\jeand\\anaconda3\\Lib\\site-packages\\tensorflow_hub\\module_v2.py:126: The name tf.saved_model.load_v2 is deprecated. Please use tf.compat.v2.saved_model.load instead.\n",
      "\n"
     ]
    },
    {
     "name": "stderr",
     "output_type": "stream",
     "text": [
      "WARNING:tensorflow:From c:\\Users\\jeand\\anaconda3\\Lib\\site-packages\\tensorflow_hub\\module_v2.py:126: The name tf.saved_model.load_v2 is deprecated. Please use tf.compat.v2.saved_model.load instead.\n",
      "\n"
     ]
    },
    {
     "name": "stdout",
     "output_type": "stream",
     "text": [
      "USE model loaded.\n"
     ]
    }
   ],
   "source": [
    "# Load pretrained USE model (takes a moment the first time)\n",
    "embed = hub.load(\"https://tfhub.dev/google/universal-sentence-encoder/4\")\n",
    "print(\"USE model loaded.\")"
   ]
  },
  {
   "cell_type": "markdown",
   "id": "16cd92fc",
   "metadata": {},
   "source": [
    "### Embed the Text:"
   ]
  },
  {
   "cell_type": "code",
   "execution_count": 5,
   "id": "c8dbb625",
   "metadata": {},
   "outputs": [],
   "source": [
    "# Convert Series to list (required for USE)\n",
    "X_train_emb = embed(X_train.tolist())\n",
    "X_test_emb = embed(X_test.tolist())"
   ]
  },
  {
   "cell_type": "markdown",
   "id": "c9a1201e",
   "metadata": {},
   "source": [
    "## 3. Train Logistic Regression:"
   ]
  },
  {
   "cell_type": "code",
   "execution_count": 6,
   "id": "42d53fa3",
   "metadata": {},
   "outputs": [],
   "source": [
    "# Model training\n",
    "start_time = time.time()\n",
    "clf = LogisticRegression(max_iter=1000)\n",
    "clf.fit(X_train_emb, y_train)\n",
    "training_time_minutes = (time.time() - start_time) / 60"
   ]
  },
  {
   "cell_type": "markdown",
   "id": "bd653fd9",
   "metadata": {},
   "source": [
    "## 4. Evaluation:"
   ]
  },
  {
   "cell_type": "code",
   "execution_count": 7,
   "id": "940879a9",
   "metadata": {},
   "outputs": [
    {
     "name": "stdout",
     "output_type": "stream",
     "text": [
      "Accuracy: 0.9244620114185331\n",
      "              precision    recall  f1-score   support\n",
      "\n",
      "           0       0.93      0.92      0.93      3529\n",
      "           1       0.91      0.93      0.92      3302\n",
      "\n",
      "    accuracy                           0.92      6831\n",
      "   macro avg       0.92      0.92      0.92      6831\n",
      "weighted avg       0.92      0.92      0.92      6831\n",
      "\n"
     ]
    }
   ],
   "source": [
    "# Evaluation\n",
    "y_pred = clf.predict(X_test_emb)\n",
    "\n",
    "print(\"Accuracy:\", accuracy_score(y_test, y_pred))\n",
    "print(classification_report(y_test, y_pred))"
   ]
  },
  {
   "cell_type": "markdown",
   "id": "5355cc0f",
   "metadata": {},
   "source": [
    "## 5. Confusion Matrix Plot:"
   ]
  },
  {
   "cell_type": "code",
   "execution_count": 8,
   "id": "fa805b7a",
   "metadata": {},
   "outputs": [
    {
     "data": {
      "text/plain": [
       "<sklearn.metrics._plot.confusion_matrix.ConfusionMatrixDisplay at 0x18b097b46e0>"
      ]
     },
     "execution_count": 8,
     "metadata": {},
     "output_type": "execute_result"
    },
    {
     "data": {
      "image/png": "[encoded data removed]",
      "text/plain": [
       "<Figure size 640x480 with 2 Axes>"
      ]
     },
     "metadata": {},
     "output_type": "display_data"
    }
   ],
   "source": [
    "# Optional: show confusion matrix\n",
    "ConfusionMatrixDisplay.from_estimator(clf, X_test_emb, y_test, cmap=\"Blues\")"
   ]
  },
  {
   "cell_type": "markdown",
   "id": "bd5df290",
   "metadata": {},
   "source": [
    "## 6. Save Model Eval Metrics"
   ]
  },
  {
   "cell_type": "code",
   "execution_count": 9,
   "id": "9b101b9c",
   "metadata": {},
   "outputs": [
    {
     "name": "stdout",
     "output_type": "stream",
     "text": [
      "Results saved to results/model6a_use_lr_results.json\n",
      "Model: Model 6a: USE + Logistic Regression\n",
      "Accuracy: 0.9245 (92.45%)\n",
      "Training Time: 0.00 minutes\n"
     ]
    }
   ],
   "source": [
    "# 📊 Metrics\n",
    "model_name=\"model6a_use_lr\"\n",
    "test_accuracy = accuracy_score(y_test, y_pred)\n",
    "train_accuracy = accuracy_score(y_train, clf.predict(X_train_emb))\n",
    "precision = precision_score(y_test, y_pred)\n",
    "recall = recall_score(y_test, y_pred)\n",
    "f1 = f1_score(y_test, y_pred)\n",
    "conf_matrix = confusion_matrix(y_test, y_pred).tolist()\n",
    "class_report = classification_report(y_test, y_pred, output_dict=True)\n",
    "\n",
    "# 📁 Save results\n",
    "save_model_results(\n",
    "    model_name=model_name,\n",
    "    display_name=\"Model 6a: USE + Logistic Regression\",\n",
    "    accuracy=test_accuracy,\n",
    "    training_time_minutes=training_time_minutes,\n",
    "    model_architecture=\"Logistic Regression with Universal Sentence Encoder embeddings\",\n",
    "    preprocessing_type=\"universal_sentence_encoder\",\n",
    "    hyperparameters={\n",
    "        \"embedding_source\": \"TF Hub Universal Sentence Encoder\",\n",
    "        \"embedding_type\": \"512-d sentence vector\",\n",
    "        \"C\": clf.C,\n",
    "        \"max_iter\": clf.max_iter,\n",
    "        \"random_state\": clf.random_state\n",
    "    },\n",
    "    train_accuracy=train_accuracy,\n",
    "    test_accuracy=test_accuracy,\n",
    "    confusion_matrix=conf_matrix,\n",
    "    classification_report=class_report,\n",
    "    dataset_info={\n",
    "        \"training_samples\": len(X_train_emb),\n",
    "        \"test_samples\": len(X_test_emb),\n",
    "        \"embedding_dimensions\": X_train_emb.shape[1],\n",
    "        \"embedding_source\": \"https://tfhub.dev/google/universal-sentence-encoder/4\"\n",
    "    }\n",
    ")"
   ]
  },
  {
   "cell_type": "markdown",
   "id": "082c0ed5",
   "metadata": {},
   "source": [
    "## 7. Save trained model"
   ]
  },
  {
   "cell_type": "code",
   "execution_count": 10,
   "id": "3ab196ed",
   "metadata": {},
   "outputs": [
    {
     "name": "stdout",
     "output_type": "stream",
     "text": [
      "✅ Model saved: trained_models\\model6a_use_lr_20250529_163306.joblib\n"
     ]
    },
    {
     "data": {
      "text/plain": [
       "'trained_models\\\\model6a_use_lr_20250529_163306.joblib'"
      ]
     },
     "execution_count": 10,
     "metadata": {},
     "output_type": "execute_result"
    }
   ],
   "source": [
    "save_trained_model(clf, model_name)"
   ]
  }
 ],
 "metadata": {
  "kernelspec": {
   "display_name": "base",
   "language": "python",
   "name": "python3"
  },
  "language_info": {
   "codemirror_mode": {
    "name": "ipython",
    "version": 3
   },
   "file_extension": ".py",
   "mimetype": "text/x-python",
   "name": "python",
   "nbconvert_exporter": "python",
   "pygments_lexer": "ipython3",
   "version": "3.12.3"
  }
 },
 "nbformat": 4,
 "nbformat_minor": 5
}
