{
 "cells": [
  {
   "cell_type": "markdown",
   "id": "224a4842",
   "metadata": {},
   "source": [
    "# Model 6b: GloVe + Mean Pooling + Logistic Regression\n",
    "\n",
    "## 🎯 Objective:\n",
    "Use pretrained GloVe word vectors to represent each headline as an average of its word embeddings. Train a simple classifier (Logistic Regression) on top.\n",
    "\n",
    "## 🔧 Steps:\n",
    "1. Import Libraries & Load Data\n",
    "    - Load data.csv as usual\n",
    "    - Prepare X_train, X_test, y_train, y_test\n",
    "\n",
    "2. GloVe Model + Pooling\n",
    "    - Load GloVe Embeddings (Download 100D)\n",
    "    - Load GloVe into Dictionary\n",
    "\n",
    "3. Model Training\n",
    "    - Use LogisticRegression on the embedded vectors\n",
    "\n",
    "5. Evaluation:\n",
    "    - Accuracy, classification report\n",
    "\n",
    "6. Confusion matrix\n",
    "\n",
    "##  ✅ Purpose:\n",
    "Leverage semantic-rich embeddings instead of hand-crafted features (TF-IDF). This gives a dense **representation of meaning**, and allows comparison with classical models from Model 0 and 2."
   ]
  },
  {
   "cell_type": "markdown",
   "id": "abf31b2c",
   "metadata": {},
   "source": [
    "## 1. Import Librairies and load data"
   ]
  },
  {
   "cell_type": "code",
   "execution_count": 1,
   "id": "639417f5",
   "metadata": {},
   "outputs": [],
   "source": [
    "import pandas as pd\n",
    "import numpy as np\n",
    "import re\n",
    "\n",
    "from sklearn.model_selection import train_test_split\n",
    "from sklearn.linear_model import LogisticRegression\n",
    "from sklearn.metrics import classification_report, accuracy_score\n",
    "from sklearn.metrics import ConfusionMatrixDisplay\n",
    "import matplotlib.pyplot as plt\n",
    "\n",
    "from model_eval import save_model_results\n",
    "import time"
   ]
  },
  {
   "cell_type": "code",
   "execution_count": 2,
   "id": "cd4dd074",
   "metadata": {},
   "outputs": [
    {
     "data": {
      "text/html": [
       "<div>\n",
       "<style scoped>\n",
       "    .dataframe tbody tr th:only-of-type {\n",
       "        vertical-align: middle;\n",
       "    }\n",
       "\n",
       "    .dataframe tbody tr th {\n",
       "        vertical-align: top;\n",
       "    }\n",
       "\n",
       "    .dataframe thead th {\n",
       "        text-align: right;\n",
       "    }\n",
       "</style>\n",
       "<table border=\"1\" class=\"dataframe\">\n",
       "  <thead>\n",
       "    <tr style=\"text-align: right;\">\n",
       "      <th></th>\n",
       "      <th>label</th>\n",
       "      <th>title</th>\n",
       "    </tr>\n",
       "  </thead>\n",
       "  <tbody>\n",
       "    <tr>\n",
       "      <th>0</th>\n",
       "      <td>0</td>\n",
       "      <td>donald trump sends out embarrassing new year‚s...</td>\n",
       "    </tr>\n",
       "    <tr>\n",
       "      <th>1</th>\n",
       "      <td>0</td>\n",
       "      <td>drunk bragging trump staffer started russian c...</td>\n",
       "    </tr>\n",
       "    <tr>\n",
       "      <th>2</th>\n",
       "      <td>0</td>\n",
       "      <td>sheriff david clarke becomes an internet joke ...</td>\n",
       "    </tr>\n",
       "    <tr>\n",
       "      <th>3</th>\n",
       "      <td>0</td>\n",
       "      <td>trump is so obsessed he even has obama‚s name ...</td>\n",
       "    </tr>\n",
       "    <tr>\n",
       "      <th>4</th>\n",
       "      <td>0</td>\n",
       "      <td>pope francis just called out donald trump duri...</td>\n",
       "    </tr>\n",
       "  </tbody>\n",
       "</table>\n",
       "</div>"
      ],
      "text/plain": [
       "   label                                              title\n",
       "0      0  donald trump sends out embarrassing new year‚s...\n",
       "1      0  drunk bragging trump staffer started russian c...\n",
       "2      0  sheriff david clarke becomes an internet joke ...\n",
       "3      0  trump is so obsessed he even has obama‚s name ...\n",
       "4      0  pope francis just called out donald trump duri..."
      ]
     },
     "execution_count": 2,
     "metadata": {},
     "output_type": "execute_result"
    }
   ],
   "source": [
    "df = pd.read_csv(\"data/training_data_lowercase.csv\", sep=\"\\t\", header=None, names=[\"label\", \"title\"])\n",
    "# data.reset_index(drop=True, inplace=True)  # optional\n",
    "\n",
    "# Split the dataset\n",
    "X_train, X_test, y_train, y_test = train_test_split(df[\"title\"], df[\"label\"], test_size=0.2, random_state=42)\n",
    "\n",
    "df.head()"
   ]
  },
  {
   "cell_type": "markdown",
   "id": "0281440c",
   "metadata": {},
   "source": [
    "## 2. GloVe model + Pooling\n",
    "\n",
    "### Load GloVe Embeddings (Download 100D)"
   ]
  },
  {
   "cell_type": "code",
   "execution_count": null,
   "id": "cc5725d4",
   "metadata": {},
   "outputs": [
    {
     "name": "stdout",
     "output_type": "stream",
     "text": [
      "  % Total    % Received % Xferd  Average Speed   Time    Time     Time  Current\n",
      "                                 Dload  Upload   Total   Spent    Left  Speed\n",
      "  0   308    0     0    0     0      0      0 --:--:-- --:--:-- --:--:--     0\n",
      "  0   346    0     0    0     0      0      0 --:--:--  0:00:01 --:--:--     0\n",
      "100  822M  100  822M    0     0  5239k      0  0:02:40  0:02:40 --:--:-- 5224k102k      0  0:02:45  0:00:11  0:02:34 5243k  0  0:02:42  0:00:25  0:02:17 5272k0  5198k      0  0:02:41  0:00:27  0:02:14 5262k  0     0  5236k      0  0:02:40  0:01:04  0:01:36 5260k01:22  0:01:18 5255k9  0:01:01 5254k0:02:40  0:01:48  0:00:52 5248k5243k      0  0:02:40  0:01:49  0:00:51 5226k:40  0:01:52  0:00:48 5232k:02:40  0:01:58  0:00:42 5198k822M   79  649M    0     0  5240k      0  0:02:40  0:02:07  0:00:33 5224k\n"
     ]
    }
   ],
   "source": [
    "# Download GloVe if needed (100-dimensional vectors) ==> if it doesn't work, please download the glove.6B.zip file on \"https://nlp.stanford.edu/projects/glove/\" and add file golve.6B.100d.txt to your repository\n",
    "\n",
    "# !curl -L -o data/glove.6B.zip http://nlp.stanford.edu/data/glove.6B.zip\n",
    "# !unzip -q data/glove.6B.zip -d data/"
   ]
  },
  {
   "cell_type": "markdown",
   "id": "16cd92fc",
   "metadata": {},
   "source": [
    "### Load GloVe into Dictionary:"
   ]
  },
  {
   "cell_type": "code",
   "execution_count": 7,
   "id": "c8dbb625",
   "metadata": {},
   "outputs": [
    {
     "name": "stdout",
     "output_type": "stream",
     "text": [
      "GloVe loaded: 400000 words\n"
     ]
    }
   ],
   "source": [
    "# Load GloVe vectors into a dictionary\n",
    "glove_path = \"data/glove.6B.100d.txt\"\n",
    "glove_dict = {}\n",
    "\n",
    "with open(glove_path, \"r\", encoding=\"utf8\") as f:\n",
    "    for line in f:\n",
    "        parts = line.split()\n",
    "        word = parts[0]\n",
    "        vector = np.array(parts[1:], dtype=np.float32)\n",
    "        glove_dict[word] = vector\n",
    "\n",
    "print(\"GloVe loaded:\", len(glove_dict), \"words\")"
   ]
  },
  {
   "cell_type": "markdown",
   "id": "2db48c96",
   "metadata": {},
   "source": [
    "## 3. Preprocess and Embed Sentences"
   ]
  },
  {
   "cell_type": "code",
   "execution_count": 8,
   "id": "b495b5bd",
   "metadata": {},
   "outputs": [],
   "source": [
    "def preprocess_text(text):\n",
    "    text = re.sub(r\"[^a-zA-Z\\s]\", \"\", text)\n",
    "    return text.lower().split()\n",
    "\n",
    "def sentence_to_vec(sentence, embeddings, dim=100):\n",
    "    words = preprocess_text(sentence)\n",
    "    vectors = [embeddings[word] for word in words if word in embeddings]\n",
    "    if len(vectors) > 0:\n",
    "        return np.mean(vectors, axis=0)\n",
    "    else:\n",
    "        return np.zeros(dim)\n",
    "\n",
    "# Embed all titles\n",
    "X_train_vec = np.vstack([sentence_to_vec(s, glove_dict) for s in X_train])\n",
    "X_test_vec = np.vstack([sentence_to_vec(s, glove_dict) for s in X_test])"
   ]
  },
  {
   "cell_type": "markdown",
   "id": "c9a1201e",
   "metadata": {},
   "source": [
    "## 4. Train Logistic Regression:"
   ]
  },
  {
   "cell_type": "code",
   "execution_count": 9,
   "id": "42d53fa3",
   "metadata": {},
   "outputs": [],
   "source": [
    "# Model training\n",
    "start_time = time.time()\n",
    "clf = LogisticRegression(max_iter=1000)\n",
    "clf.fit(X_train_vec, y_train)\n",
    "training_time_minutes = (time.time() - start_time) / 60\n"
   ]
  },
  {
   "cell_type": "markdown",
   "id": "bd653fd9",
   "metadata": {},
   "source": [
    "## 5. Evaluation:"
   ]
  },
  {
   "cell_type": "code",
   "execution_count": 11,
   "id": "940879a9",
   "metadata": {},
   "outputs": [
    {
     "name": "stdout",
     "output_type": "stream",
     "text": [
      "Accuracy: 0.8896208461425853\n",
      "              precision    recall  f1-score   support\n",
      "\n",
      "           0       0.89      0.90      0.89      3529\n",
      "           1       0.89      0.88      0.89      3302\n",
      "\n",
      "    accuracy                           0.89      6831\n",
      "   macro avg       0.89      0.89      0.89      6831\n",
      "weighted avg       0.89      0.89      0.89      6831\n",
      "\n"
     ]
    }
   ],
   "source": [
    "# Evaluation\n",
    "y_pred = clf.predict(X_test_vec)\n",
    "\n",
    "train_accuracy = clf.score(X_train_vec, y_train)\n",
    "test_accuracy = clf.score(X_test_vec, y_test)\n",
    "\n",
    "print(\"Accuracy:\", accuracy_score(y_test, y_pred))\n",
    "print(classification_report(y_test, y_pred))"
   ]
  },
  {
   "cell_type": "markdown",
   "id": "5355cc0f",
   "metadata": {},
   "source": [
    "## 5. Confusion Matrix Plot:"
   ]
  },
  {
   "cell_type": "code",
   "execution_count": 12,
   "id": "fa805b7a",
   "metadata": {},
   "outputs": [
    {
     "data": {
      "text/plain": [
       "<sklearn.metrics._plot.confusion_matrix.ConfusionMatrixDisplay at 0x10772a630>"
      ]
     },
     "execution_count": 12,
     "metadata": {},
     "output_type": "execute_result"
    },
    {
     "data": {
      "image/png": "[encoded data removed]",
      "text/plain": [
       "<Figure size 640x480 with 2 Axes>"
      ]
     },
     "metadata": {},
     "output_type": "display_data"
    }
   ],
   "source": [
    "# Optional: show confusion matrix\n",
    "ConfusionMatrixDisplay.from_estimator(clf, X_test_vec, y_test, cmap=\"Blues\")"
   ]
  },
  {
   "cell_type": "markdown",
   "id": "c0736eba",
   "metadata": {},
   "source": [
    "## 6. Save Model Eval Metrics:"
   ]
  },
  {
   "cell_type": "code",
   "execution_count": 17,
   "id": "e4860eb7",
   "metadata": {},
   "outputs": [
    {
     "name": "stdout",
     "output_type": "stream",
     "text": [
      "Results saved to results/Model6a_GloVe_Pooling_LR_results.json\n",
      "Model: GloVe + Pooling + Logistic Regression\n",
      "Accuracy: 0.8896 (88.96%)\n",
      "Training Time: 0.00 minutes\n",
      "Model results saved successfully!\n",
      "Model: GloVe + Mean Pooling + Logistic Regression\n",
      "Training Accuracy: 0.8823\n",
      "Test Accuracy: 0.8896\n",
      "Training Time: 0.00 minutes\n",
      "GloVe Vocabulary Size: 400,000 words\n",
      "Embedding Dimensions: 100\n"
     ]
    }
   ],
   "source": [
    "# Save results using the model_eval module\n",
    "save_model_results(\n",
    "    model_name=\"Model6a_GloVe_Pooling_LR\",\n",
    "    display_name=\"GloVe + Pooling + Logistic Regression\",\n",
    "    accuracy=test_accuracy, \n",
    "    training_time_minutes=training_time_minutes,  # Replace with your timing variable\n",
    "    model_architecture=\"Logistic Regression with GloVe embeddings and mean pooling\",\n",
    "    preprocessing_type=\"glove_embeddings_pooling\",\n",
    "    train_accuracy=train_accuracy,  # Replace with your training accuracy variable\n",
    "    hyperparameters={\n",
    "        \"glove_dimensions\": 100,  # Adjust based on your GloVe model\n",
    "        \"pooling_method\": \"mean\",  # or \"max\" depending on your implementation\n",
    "        \"C\": clf.C,  # Logistic regression regularization\n",
    "        \"max_iter\": clf.max_iter,\n",
    "        \"random_state\": clf.random_state\n",
    "    },\n",
    "    dataset_info={\n",
    "        \"training_samples\": len(X_train_vec),\n",
    "        \"test_samples\": len(X_test_vec),\n",
    "        \"embedding_dimensions\": X_train_vec.shape[1],  # Should be 100 for GloVe 100d\n",
    "        \"glove_vocab_size\": len(glove_dict)\n",
    "    }\n",
    ")\n",
    "\n",
    "print(\"Model results saved successfully!\")\n",
    "print(f\"Model: GloVe + Mean Pooling + Logistic Regression\")\n",
    "print(f\"Training Accuracy: {train_accuracy:.4f}\")\n",
    "print(f\"Test Accuracy: {test_accuracy:.4f}\")\n",
    "print(f\"Training Time: {training_time_minutes:.2f} minutes\")\n",
    "print(f\"GloVe Vocabulary Size: {len(glove_dict):,} words\")\n",
    "print(f\"Embedding Dimensions: {X_train_vec.shape[1]}\")"
   ]
  }
 ],
 "metadata": {
  "kernelspec": {
   "display_name": "base",
   "language": "python",
   "name": "python3"
  },
  "language_info": {
   "codemirror_mode": {
    "name": "ipython",
    "version": 3
   },
   "file_extension": ".py",
   "mimetype": "text/x-python",
   "name": "python",
   "nbconvert_exporter": "python",
   "pygments_lexer": "ipython3",
   "version": "3.12.2"
  }
 },
 "nbformat": 4,
 "nbformat_minor": 5
}
