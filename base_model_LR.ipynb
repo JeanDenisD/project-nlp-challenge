{
  "cells": [
    {
     "name": "stdout",
     "output_type": "stream",
     "text": [
      "Loading training data using standardized preprocessing...\n",
      "Loading data from data/training_data_lowercase.csv...\n",
      "Loaded 34151 articles\n",
      "\n",
      "Data loaded successfully!\n",
      "Total articles: 34151\n",
      "Sample article structure: ['label', 'text']\n",
      "\n",
      "First 3 articles:\n",
      "  Article 1: Label=0, Text='drunk bragging trump staffer started russian collusion investigation'\n",
      "  Article 2: Label=0, Text='sheriff david clarke becomes an internet joke for threatening to poke people ‚in the eye‚'\n",
      "  Article 3: Label=0, Text='trump is so obsessed he even has obama‚s name coded into his website (images)'\n",
      "\n",
      "Label distribution:\n",
      "  Fake (label 0): 17571 articles (51.5%)\n",
      "  Real (label 1): 16580 articles (48.5%)\n"
     ]
    }
   ],
   "source": [
    "# Load data using standardized function\n",
    "print(\"Loading training data using standardized preprocessing...\")\n",
    "train_data = load_and_parse_data('data/training_data_lowercase.csv')\n",
    "\n",
    "# Display basic information about the loaded data\n",
    "print(f\"\\nData loaded successfully!\")\n",
    "print(f\"Total articles: {len(train_data)}\")\n",
    "print(f\"Sample article structure: {list(train_data[0].keys())}\")\n",
    "\n",
    "# Show first few examples\n",
    "print(\"\\nFirst 3 articles:\")\n",
    "for i in range(3):\n",
    "    article = train_data[i]\n",
    "    text_preview = article['text'][:100] + \"...\" if len(article['text']) > 100 else article['text']\n",
    "    print(f\"  Article {i+1}: Label={article['label']}, Text='{text_preview}'\")\n",
    "\n",
    "# Check label distribution\n",
    "labels = [item['label'] for item in train_data]\n",
    "unique_labels, counts = np.unique(labels, return_counts=True)\n",
    "print(f\"\\nLabel distribution:\")\n",
    "for label, count in zip(unique_labels, counts):\n",
    "    label_name = \"Fake\" if label == 0 else \"Real\"\n",
    "    print(f\"  {label_name} (label {label}): {count} articles ({count/len(labels)*100:.1f}%)\")"
   ]
  },
  {
   "cell_type": "markdown",
   "id": "0281440c",
   "metadata": {},
   "source": [
    "## 2. Preprocessing Using Standardized Functions"
   ]
  },
  {
   "cell_type": "code",
   "execution_count": 3,
   "id": "cc5725d4",
   "metadata": {},
   "outputs": [
    {
     "name": "stdout",
     "output_type": "stream",
     "text": [
      "Applying standardized text cleaning...\n",
      "\n",
      "Text cleaning examples:\n",
      "\n",
      "Example 1:\n",
      "  Original: 'drunk bragging trump staffer started russian collusion investigation'\n",
      "  Cleaned:  'drunk bragging trump staffer started russian collusion investigation'\n",
      "\n",
      "Example 2:\n",
      "  Original: 'sheriff david clarke becomes an internet joke for threatening to poke people ‚in the eye‚'\n",
      "  Cleaned:  'sheriff david clarke becomes an internet joke for threatening to poke people in the eye'\n",
      "\n",
      "Example 3:\n",
      "  Original: 'trump is so obsessed he even has obama‚s name coded into his website (images)'\n",
      "  Cleaned:  'trump is so obsessed he even has obamas name coded into his website images'\n"
     ]
    }
   ],
   "source": [
    "# Apply standardized text cleaning to all articles\n",
    "print(\"Applying standardized text cleaning...\")\n",
    "for item in train_data:\n",
    "    item['clean_text'] = clean_text(item['text'])\n",
    "\n",
    "# Show before/after cleaning examples\n",
    "print(\"\\nText cleaning examples:\")\n",
    "for i in range(3):\n",
    "    article = train_data[i]\n",
    "    original = article['text'][:100] + \"...\" if len(article['text']) > 100 else article['text']\n",
    "    cleaned = article['clean_text'][:100] + \"...\" if len(article['clean_text']) > 100 else article['clean_text']\n",
    "    print(f\"\\nExample {i+1}:\")\n",
    "    print(f\"  Original: '{original}'\")\n",
    "    print(f\"  Cleaned:  '{cleaned}'\")"
   ]
  },
  {
   "cell_type": "markdown",
   "id": "16cd92fc",
   "metadata": {},
   "source": [
    "## 3. Train/Validation Split and Vectorization"
   ]
  },
  {
   "cell_type": "code",
   "execution_count": 4,
   "id": "c8dbb625",
   "metadata": {},
   "outputs": [
    {
     "name": "stdout",
     "output_type": "stream",
     "text": [
      "Creating train/validation split using standardized function...\n",
      "Train set: 27320 samples\n",
      "Validation set: 6831 samples\n",
      "Train label distribution: Counter({0: 14056, 1: 13264})\n",
      "Validation label distribution: Counter({0: 3515, 1: 3316})\n",
      "\n",
      "Train/validation split complete:\n",
      "  Training set: 27320 samples\n",
      "  Validation set: 6831 samples\n"
     ]
    }
   ],
   "source": [
    "# Create train/validation split using standardized function\n",
    "print(\"Creating train/validation split using standardized function...\")\n",
    "\n",
    "# Prepare data for the split function\n",
    "data_for_split = []\n",
    "for item in train_data:\n",
    "    data_for_split.append({\n",
    "        'label': item['label'],\n",
    "        'text': item['clean_text']  # Use cleaned text for modeling\n",
    "    })\n",
    "\n",
    "# Use standardized train/validation split\n",
    "X_train, X_val, y_train, y_val = create_train_validation_split(\n",
    "    data_for_split, \n",
    "    test_size=0.2, \n",
    "    random_state=42\n",
    ")\n",
    "\n",
    "print(f\"\\nTrain/validation split complete:\")\n",
    "print(f\"  Training set: {len(X_train)} samples\")\n",
    "print(f\"  Validation set: {len(X_val)} samples\")"
   ]
  },
  {
   "cell_type": "code",
   "execution_count": 5,
   "id": "vectorization_cell",
   "metadata": {},
   "outputs": [
    {
     "name": "stdout",
     "output_type": "stream",
     "text": [
      "Applying CountVectorizer...\n",
      "\n",
      "Vectorization complete:\n",
      "  Training matrix shape: (27320, 10000)\n",
      "  Validation matrix shape: (6831, 10000)\n",
      "  Vocabulary size: 10000\n"
     ]
    }
   ],
   "source": [
    "# Vectorization using CountVectorizer (maintaining original approach)\n",
    "\n",
    "\n",
    "print(\"Applying CountVectorizer...\")\n",
    "vectorizer = CountVectorizer(\n",
    "    max_features=10000,\n",
    "    stop_words='english',\n",
    "    lowercase=False,\n",
    "    min_df=2,\n",
    "    max_df=0.95\n",
    ")\n",
    "\n",
    "X_train_vec = vectorizer.fit_transform(X_train)\n",
    "X_val_vec = vectorizer.transform(X_val)\n",
    "\n",
    "print(f\"\\nVectorization complete:\")\n",
    "print(f\"  Training matrix shape: {X_train_vec.shape}\")\n",
    "print(f\"  Validation matrix shape: {X_val_vec.shape}\")\n",
    "print(f\"  Vocabulary size: {len(vectorizer.vocabulary_)}\")"
   ]
  },
  {
   "cell_type": "markdown",
   "id": "c9a1201e",
   "metadata": {},
   "source": [
    "## 4. Logistic Regression Model"
   ]
  },
  {
   "cell_type": "code",
   "execution_count": 6,
   "id": "42d53fa3",
   "metadata": {},
   "outputs": [
    {
     "name": "stdout",
     "output_type": "stream",
     "text": [
      "Training Logistic Regression model...\n",
      "Model training complete!\n",
      "Training time: 0.00 minutes\n"
     ]
    }
   ],
   "source": [
    "# Model training\n",
    "import time\n",
    "\n",
    "print(\"Training Logistic Regression model...\")\n",
    "start_time = time.time()\n",
    "model = LogisticRegression(max_iter=1000, random_state=42)\n",
    "model.fit(X_train_vec, y_train)\n",
    "training_time_minutes = (time.time() - start_time) / 60\n",
    "\n",
    "print(\"Model training complete!\")\n",
    "print(f\"Training time: {training_time_minutes:.2f} minutes\")"
   ]
  },
  {
   "cell_type": "markdown",
   "id": "bd653fd9",
   "metadata": {},
   "source": [
    "## 5. Evaluation"
   ]
  },
  {
   "cell_type": "code",
   "execution_count": 7,
   "id": "940879a9",
   "metadata": {},
   "outputs": [
    {
     "name": "stdout",
     "output_type": "stream",
     "text": [
      "Evaluating model performance...\n",
      "\n",
      "=== MODEL PERFORMANCE ===\n",
      "Validation Accuracy: 0.9290 (92.90%)\n",
      "\n",
      "=== DETAILED CLASSIFICATION REPORT ===\n",
      "               precision    recall  f1-score   support\n",
      "\n",
      "Fake News (0)     0.9445    0.9158    0.9299      3515\n",
      "Real News (1)     0.9135    0.9430    0.9280      3316\n",
      "\n",
      "     accuracy                         0.9290      6831\n",
      "    macro avg     0.9290    0.9294    0.9290      6831\n",
      " weighted avg     0.9295    0.9290    0.9290      6831\n",
      "\n"
     ]
    }
   ],
   "source": [
    "# Evaluation on validation set\n",
    "print(\"Evaluating model performance...\")\n",
    "y_pred = model.predict(X_val_vec)\n",
    "\n",
    "# Calculate accuracy\n",
    "accuracy = accuracy_score(y_val, y_pred)\n",
    "print(f\"\\n=== MODEL PERFORMANCE ===\")\n",
    "print(f\"Validation Accuracy: {accuracy:.4f} ({accuracy*100:.2f}%)\")\n",
    "\n",
    "# Detailed classification report\n",
    "print(f\"\\n=== DETAILED CLASSIFICATION REPORT ===\")\n",
    "print(classification_report(\n",
    "    y_val, y_pred, \n",
    "    target_names=['Fake News (0)', 'Real News (1)'],\n",
    "    digits=4\n",
    "))"
   ]
  },
  {
   "cell_type": "markdown",
   "id": "5355cc0f",
   "metadata": {},
   "source": [
    "## 6. Confusion Matrix"
   ]
  },
  {
   "cell_type": "code",
   "execution_count": 8,
   "id": "fa805b7a",
   "metadata": {},
   "outputs": [
    {
     "data": {
      "text/plain": [
       "<Figure size 800x600 with 0 Axes>"
      ]
    },
    {
      "cell_type": "markdown",
      "id": "abf31b2c",
      "metadata": {},
      "source": [
        "## 1. Import Libraries and Load Data"
      ]
    },
    {
      "cell_type": "code",
      "execution_count": 1,
      "id": "639417f5",
      "metadata": {},
      "outputs": [],
      "source": [
        "# Standard libraries\n",
        "import pandas as pd\n",
        "import numpy as np\n",
        "\n",
        "# Sklearn libraries for modeling and evaluation\n",
        "from sklearn.feature_extraction.text import CountVectorizer\n",
        "from sklearn.linear_model import LogisticRegression\n",
        "from sklearn.metrics import classification_report, accuracy_score\n",
        "from sklearn.metrics import ConfusionMatrixDisplay\n",
        "import matplotlib.pyplot as plt\n",
        "\n",
        "# Import our standardized preprocessing functions\n",
        "from preprocess import load_and_parse_data, create_train_validation_split, clean_text"
      ]
    },
    {
      "cell_type": "code",
      "execution_count": 2,
      "id": "cd4dd074",
      "metadata": {},
      "outputs": [
        {
          "name": "stdout",
          "output_type": "stream",
          "text": [
            "Loading training data using standardized preprocessing...\n",
            "Loading data from data/training_data_lowercase.csv...\n",
            "Loaded 34151 articles\n",
            "\n",
            "Data loaded successfully!\n",
            "Total articles: 34151\n",
            "Sample article structure: ['label', 'text']\n",
            "\n",
            "First 3 articles:\n",
            "  Article 1: Label=0, Text='drunk bragging trump staffer started russian collusion investigation'\n",
            "  Article 2: Label=0, Text='sheriff david clarke becomes an internet joke for threatening to poke people ‚in the eye‚'\n",
            "  Article 3: Label=0, Text='trump is so obsessed he even has obama‚s name coded into his website (images)'\n",
            "\n",
            "Label distribution:\n",
            "  Fake (label 0): 17571 articles (51.5%)\n",
            "  Real (label 1): 16580 articles (48.5%)\n"
          ]
        }
      ],
      "source": [
        "# Load data using standardized function\n",
        "print(\"Loading training data using standardized preprocessing...\")\n",
        "train_data = load_and_parse_data('data/training_data_lowercase.csv')\n",
        "\n",
        "# Display basic information about the loaded data\n",
        "print(f\"\\nData loaded successfully!\")\n",
        "print(f\"Total articles: {len(train_data)}\")\n",
        "print(f\"Sample article structure: {list(train_data[0].keys())}\")\n",
        "\n",
        "# Show first few examples\n",
        "print(\"\\nFirst 3 articles:\")\n",
        "for i in range(3):\n",
        "    article = train_data[i]\n",
        "    text_preview = article['text'][:100] + \"...\" if len(article['text']) > 100 else article['text']\n",
        "    print(f\"  Article {i+1}: Label={article['label']}, Text='{text_preview}'\")\n",
        "\n",
        "# Check label distribution\n",
        "labels = [item['label'] for item in train_data]\n",
        "unique_labels, counts = np.unique(labels, return_counts=True)\n",
        "print(f\"\\nLabel distribution:\")\n",
        "for label, count in zip(unique_labels, counts):\n",
        "    label_name = \"Fake\" if label == 0 else \"Real\"\n",
        "    print(f\"  {label_name} (label {label}): {count} articles ({count/len(labels)*100:.1f}%)\")"
      ]
    },
    {
      "cell_type": "markdown",
      "id": "0281440c",
      "metadata": {},
      "source": [
        "## 2. Preprocessing Using Standardized Functions"
      ]
    },
    {
      "cell_type": "code",
      "execution_count": 3,
      "id": "cc5725d4",
      "metadata": {},
      "outputs": [
        {
          "name": "stdout",
          "output_type": "stream",
          "text": [
            "Applying standardized text cleaning...\n",
            "\n",
            "Text cleaning examples:\n",
            "\n",
            "Example 1:\n",
            "  Original: 'drunk bragging trump staffer started russian collusion investigation'\n",
            "  Cleaned:  'drunk bragging trump staffer started russian collusion investigation'\n",
            "\n",
            "Example 2:\n",
            "  Original: 'sheriff david clarke becomes an internet joke for threatening to poke people ‚in the eye‚'\n",
            "  Cleaned:  'sheriff david clarke becomes an internet joke for threatening to poke people in the eye'\n",
            "\n",
            "Example 3:\n",
            "  Original: 'trump is so obsessed he even has obama‚s name coded into his website (images)'\n",
            "  Cleaned:  'trump is so obsessed he even has obamas name coded into his website images'\n"
          ]
        }
      ],
      "source": [
        "# Apply standardized text cleaning to all articles\n",
        "print(\"Applying standardized text cleaning...\")\n",
        "for item in train_data:\n",
        "    item['clean_text'] = clean_text(item['text'])\n",
        "\n",
        "# Show before/after cleaning examples\n",
        "print(\"\\nText cleaning examples:\")\n",
        "for i in range(3):\n",
        "    article = train_data[i]\n",
        "    original = article['text'][:100] + \"...\" if len(article['text']) > 100 else article['text']\n",
        "    cleaned = article['clean_text'][:100] + \"...\" if len(article['clean_text']) > 100 else article['clean_text']\n",
        "    print(f\"\\nExample {i+1}:\")\n",
        "    print(f\"  Original: '{original}'\")\n",
        "    print(f\"  Cleaned:  '{cleaned}'\")"
      ]
    },
    {
      "cell_type": "markdown",
      "id": "16cd92fc",
      "metadata": {},
      "source": [
        "## 3. Train/Validation Split and Vectorization"
      ]
    },
    {
      "cell_type": "code",
      "execution_count": 4,
      "id": "c8dbb625",
      "metadata": {},
      "outputs": [
        {
          "name": "stdout",
          "output_type": "stream",
          "text": [
            "Creating train/validation split using standardized function...\n",
            "Train set: 27320 samples\n",
            "Validation set: 6831 samples\n",
            "Train label distribution: Counter({0: 14056, 1: 13264})\n",
            "Validation label distribution: Counter({0: 3515, 1: 3316})\n",
            "\n",
            "Train/validation split complete:\n",
            "  Training set: 27320 samples\n",
            "  Validation set: 6831 samples\n"
          ]
        }
      ],
      "source": [
        "# Create train/validation split using standardized function\n",
        "print(\"Creating train/validation split using standardized function...\")\n",
        "\n",
        "# Prepare data for the split function\n",
        "data_for_split = []\n",
        "for item in train_data:\n",
        "    data_for_split.append({\n",
        "        'label': item['label'],\n",
        "        'text': item['clean_text']  # Use cleaned text for modeling\n",
        "    })\n",
        "\n",
        "# Use standardized train/validation split\n",
        "X_train, X_val, y_train, y_val = create_train_validation_split(\n",
        "    data_for_split, \n",
        "    test_size=0.2, \n",
        "    random_state=42\n",
        ")\n",
        "\n",
        "print(f\"\\nTrain/validation split complete:\")\n",
        "print(f\"  Training set: {len(X_train)} samples\")\n",
        "print(f\"  Validation set: {len(X_val)} samples\")"
      ]
    },
    {
      "cell_type": "code",
      "execution_count": 5,
      "id": "vectorization_cell",
      "metadata": {},
      "outputs": [
        {
          "name": "stdout",
          "output_type": "stream",
          "text": [
            "Applying CountVectorizer...\n",
            "\n",
            "Vectorization complete:\n",
            "  Training matrix shape: (27320, 10000)\n",
            "  Validation matrix shape: (6831, 10000)\n",
            "  Vocabulary size: 10000\n"
          ]
        }
      ],
      "source": [
        "# Vectorization using CountVectorizer (maintaining original approach)\n",
        "print(\"Applying CountVectorizer...\")\n",
        "vectorizer = CountVectorizer(\n",
        "    max_features=10000,\n",
        "    stop_words='english',\n",
        "    lowercase=False,\n",
        "    min_df=2,\n",
        "    max_df=0.95\n",
        ")\n",
        "\n",
        "X_train_vec = vectorizer.fit_transform(X_train)\n",
        "X_val_vec = vectorizer.transform(X_val)\n",
        "\n",
        "print(f\"\\nVectorization complete:\")\n",
        "print(f\"  Training matrix shape: {X_train_vec.shape}\")\n",
        "print(f\"  Validation matrix shape: {X_val_vec.shape}\")\n",
        "print(f\"  Vocabulary size: {len(vectorizer.vocabulary_)}\")"
      ]
    },
    {
      "cell_type": "markdown",
      "id": "c9a1201e",
      "metadata": {},
      "source": [
        "## 4. Logistic Regression Model"
      ]
    },
    {
      "cell_type": "code",
      "execution_count": 6,
      "id": "42d53fa3",
      "metadata": {},
      "outputs": [
        {
          "name": "stdout",
          "output_type": "stream",
          "text": [
            "Training Logistic Regression model...\n",
            "Model training complete!\n"
          ]
        }
      ],
      "source": [
        "# Model training\n",
        "print(\"Training Logistic Regression model...\")\n",
        "model = LogisticRegression(max_iter=1000, random_state=42)\n",
        "model.fit(X_train_vec, y_train)\n",
        "\n",
        "print(\"Model training complete!\")"
      ]
    },
    {
      "cell_type": "markdown",
      "id": "bd653fd9",
      "metadata": {},
      "source": [
        "## 5. Evaluation"
      ]
    },
    {
      "cell_type": "code",
      "execution_count": 7,
      "id": "940879a9",
      "metadata": {},
      "outputs": [
        {
          "name": "stdout",
          "output_type": "stream",
          "text": [
            "Evaluating model performance...\n",
            "\n",
            "=== MODEL PERFORMANCE ===\n",
            "Validation Accuracy: 0.9290 (92.90%)\n",
            "\n",
            "=== DETAILED CLASSIFICATION REPORT ===\n",
            "               precision    recall  f1-score   support\n",
            "\n",
            "Fake News (0)     0.9445    0.9158    0.9299      3515\n",
            "Real News (1)     0.9135    0.9430    0.9280      3316\n",
            "\n",
            "     accuracy                         0.9290      6831\n",
            "    macro avg     0.9290    0.9294    0.9290      6831\n",
            " weighted avg     0.9295    0.9290    0.9290      6831\n",
            "\n"
          ]
        }
      ],
      "source": [
        "# Evaluation on validation set\n",
        "print(\"Evaluating model performance...\")\n",
        "y_pred = model.predict(X_val_vec)\n",
        "\n",
        "# Calculate accuracy\n",
        "accuracy = accuracy_score(y_val, y_pred)\n",
        "print(f\"\\n=== MODEL PERFORMANCE ===\")\n",
        "print(f\"Validation Accuracy: {accuracy:.4f} ({accuracy*100:.2f}%)\")\n",
        "\n",
        "# Detailed classification report\n",
        "print(f\"\\n=== DETAILED CLASSIFICATION REPORT ===\")\n",
        "print(classification_report(\n",
        "    y_val, y_pred, \n",
        "    target_names=['Fake News (0)', 'Real News (1)'],\n",
        "    digits=4\n",
        "))"
      ]
    },
    {
      "cell_type": "markdown",
      "id": "5355cc0f",
      "metadata": {},
      "source": [
        "## 6. Confusion Matrix"
      ]
    },
    {
      "cell_type": "code",
      "execution_count": 8,
      "id": "fa805b7a",
      "metadata": {},
      "outputs": [
        {
          "data": {
            "text/plain": [
              "<Figure size 800x600 with 0 Axes>"
            ]
          },
          "metadata": {},
          "output_type": "display_data"
        },
        {
          "data": {
            "image/png": "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",
            "text/plain": [
              "<Figure size 640x480 with 2 Axes>"
            ]
          },
          "metadata": {},
          "output_type": "display_data"
        }
      ],
      "source": [
        "# Confusion Matrix\n",
        "plt.figure(figsize=(8, 6))\n",
        "ConfusionMatrixDisplay.from_estimator(\n",
        "    model, X_val_vec, y_val, \n",
        "    cmap='Blues',\n",
        "    display_labels=['Fake News', 'Real News']\n",
        ")\n",
        "plt.title(\"Confusion Matrix - Logistic Regression with Standardized Preprocessing\")\n",
        "plt.show()"
      ]
    }
<<<<<<< HEAD
  ],
  "metadata": {
    "kernelspec": {
      "display_name": "base",
      "language": "python",
      "name": "python3"
    },
    "language_info": {
      "codemirror_mode": {
        "name": "ipython",
        "version": 3
      },
      "file_extension": ".py",
      "mimetype": "text/x-python",
      "name": "python",
      "nbconvert_exporter": "python",
      "pygments_lexer": "ipython3",
      "version": "3.12.2"
    }
=======
   ],
   "source": [
    "# Confusion Matrix\n",
    "plt.figure(figsize=(8, 6))\n",
    "ConfusionMatrixDisplay.from_estimator(\n",
    "    model, X_val_vec, y_val, \n",
    "    cmap='Blues',\n",
    "    display_labels=['Fake News', 'Real News']\n",
    ")\n",
    "plt.title(\"Confusion Matrix - Logistic Regression with Standardized Preprocessing\")\n",
    "plt.show()"
   ]
  },
  {
   "cell_type": "markdown",
   "id": "results_section",
   "metadata": {},
   "source": [
    "## 7. Save Results for Model Comparison"
   ]
  },
  {
   "cell_type": "code",
   "execution_count": 9,
   "id": "save_results",
   "metadata": {},
   "outputs": [
    {
     "name": "stdout",
     "output_type": "stream",
     "text": [
      "Results saved to results/baseline_lr_results.json\n",
      "Model: Baseline LogisticRegression\n",
      "Accuracy: 0.9290 (92.90%)\n",
      "Training Time: 0.00 minutes\n",
      "\n",
      "Model results saved successfully for comparison!\n"
     ]
    }
   ],
   "source": [
    "# Import the evaluation module\n",
    "from model_eval import save_model_results\n",
    "\n",
    "# Save results using clean keyword arguments\n",
    "save_model_results(\n",
    "    model_name=\"baseline_lr\",\n",
    "    display_name=\"Baseline LogisticRegression\",\n",
    "    accuracy=accuracy,\n",
    "    training_time_minutes=training_time_minutes,\n",
    "    model_architecture=\"LogisticRegression with CountVectorizer (10k features)\",\n",
    "    preprocessing_type=\"standardized_clean_text\",\n",
    "    hyperparameters={\n",
    "        \"max_features\": 10000,\n",
    "        \"stop_words\": \"english\",\n",
    "        \"min_df\": 2,\n",
    "        \"max_df\": 0.95,\n",
    "        \"max_iter\": 1000,\n",
    "        \"random_state\": 42\n",
    "    },\n",
    "    dataset_info={\n",
    "        \"training_samples\": len(X_train),\n",
    "        \"validation_samples\": len(X_val),\n",
    "        \"vocabulary_size\": len(vectorizer.vocabulary_)\n",
    "    }\n",
    ")\n",
    "\n",
    "print(\"\\nModel results saved successfully for comparison!\")"
   ]
  }
 ],
 "metadata": {
  "kernelspec": {
   "display_name": "base",
   "language": "python",
   "name": "python3"
>>>>>>> bdb71b93a767fbe237a6c95dc3b332d6d0c95ca4
  },
  "nbformat": 4,
  "nbformat_minor": 5
}
